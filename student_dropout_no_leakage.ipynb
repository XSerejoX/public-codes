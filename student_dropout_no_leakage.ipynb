{
  "nbformat": 4,
  "nbformat_minor": 0,
  "metadata": {
    "colab": {
      "provenance": []
    },
    "kernelspec": {
      "name": "python3",
      "display_name": "Python 3"
    },
    "language_info": {
      "name": "python"
    }
  },
  "cells": [
    {
      "cell_type": "code",
      "execution_count": null,
      "metadata": {
        "id": "w0TAApczVZCu"
      },
      "outputs": [],
      "source": [
        "import numpy as np\n",
        "import pandas as pd\n",
        "import matplotlib.pyplot as plt\n",
        "import seaborn as sns\n",
        "\n",
        "path = '/content/data.csv'\n",
        "\n",
        "df = pd.read_csv(path, sep=';')\n"
      ]
    },
    {
      "cell_type": "markdown",
      "source": [
        "exploração inicial"
      ],
      "metadata": {
        "id": "cpxIC7Rer4q5"
      }
    },
    {
      "cell_type": "code",
      "source": [
        "df.head()"
      ],
      "metadata": {
        "colab": {
          "base_uri": "https://localhost:8080/",
          "height": 308
        },
        "id": "Wol59NjLSdki",
        "outputId": "d1d5ccb2-2ea1-4506-bf39-521c57931980"
      },
      "execution_count": null,
      "outputs": [
        {
          "output_type": "execute_result",
          "data": {
            "text/plain": [
              "   Marital status  Application mode  Application order  Course  \\\n",
              "0               1                17                  5     171   \n",
              "1               1                15                  1    9254   \n",
              "2               1                 1                  5    9070   \n",
              "3               1                17                  2    9773   \n",
              "4               2                39                  1    8014   \n",
              "\n",
              "   Daytime/evening attendance\\t  Previous qualification  \\\n",
              "0                             1                       1   \n",
              "1                             1                       1   \n",
              "2                             1                       1   \n",
              "3                             1                       1   \n",
              "4                             0                       1   \n",
              "\n",
              "   Previous qualification (grade)  Nacionality  Mother's qualification  \\\n",
              "0                           122.0            1                      19   \n",
              "1                           160.0            1                       1   \n",
              "2                           122.0            1                      37   \n",
              "3                           122.0            1                      38   \n",
              "4                           100.0            1                      37   \n",
              "\n",
              "   Father's qualification  ...  Curricular units 2nd sem (credited)  \\\n",
              "0                      12  ...                                    0   \n",
              "1                       3  ...                                    0   \n",
              "2                      37  ...                                    0   \n",
              "3                      37  ...                                    0   \n",
              "4                      38  ...                                    0   \n",
              "\n",
              "   Curricular units 2nd sem (enrolled)  \\\n",
              "0                                    0   \n",
              "1                                    6   \n",
              "2                                    6   \n",
              "3                                    6   \n",
              "4                                    6   \n",
              "\n",
              "   Curricular units 2nd sem (evaluations)  \\\n",
              "0                                       0   \n",
              "1                                       6   \n",
              "2                                       0   \n",
              "3                                      10   \n",
              "4                                       6   \n",
              "\n",
              "   Curricular units 2nd sem (approved)  Curricular units 2nd sem (grade)  \\\n",
              "0                                    0                          0.000000   \n",
              "1                                    6                         13.666667   \n",
              "2                                    0                          0.000000   \n",
              "3                                    5                         12.400000   \n",
              "4                                    6                         13.000000   \n",
              "\n",
              "   Curricular units 2nd sem (without evaluations)  Unemployment rate  \\\n",
              "0                                               0               10.8   \n",
              "1                                               0               13.9   \n",
              "2                                               0               10.8   \n",
              "3                                               0                9.4   \n",
              "4                                               0               13.9   \n",
              "\n",
              "   Inflation rate   GDP    Target  \n",
              "0             1.4  1.74   Dropout  \n",
              "1            -0.3  0.79  Graduate  \n",
              "2             1.4  1.74   Dropout  \n",
              "3            -0.8 -3.12  Graduate  \n",
              "4            -0.3  0.79  Graduate  \n",
              "\n",
              "[5 rows x 37 columns]"
            ],
            "text/html": [
              "\n",
              "  <div id=\"df-d3631dfb-8270-4c33-a153-8504da642195\" class=\"colab-df-container\">\n",
              "    <div>\n",
              "<style scoped>\n",
              "    .dataframe tbody tr th:only-of-type {\n",
              "        vertical-align: middle;\n",
              "    }\n",
              "\n",
              "    .dataframe tbody tr th {\n",
              "        vertical-align: top;\n",
              "    }\n",
              "\n",
              "    .dataframe thead th {\n",
              "        text-align: right;\n",
              "    }\n",
              "</style>\n",
              "<table border=\"1\" class=\"dataframe\">\n",
              "  <thead>\n",
              "    <tr style=\"text-align: right;\">\n",
              "      <th></th>\n",
              "      <th>Marital status</th>\n",
              "      <th>Application mode</th>\n",
              "      <th>Application order</th>\n",
              "      <th>Course</th>\n",
              "      <th>Daytime/evening attendance\\t</th>\n",
              "      <th>Previous qualification</th>\n",
              "      <th>Previous qualification (grade)</th>\n",
              "      <th>Nacionality</th>\n",
              "      <th>Mother's qualification</th>\n",
              "      <th>Father's qualification</th>\n",
              "      <th>...</th>\n",
              "      <th>Curricular units 2nd sem (credited)</th>\n",
              "      <th>Curricular units 2nd sem (enrolled)</th>\n",
              "      <th>Curricular units 2nd sem (evaluations)</th>\n",
              "      <th>Curricular units 2nd sem (approved)</th>\n",
              "      <th>Curricular units 2nd sem (grade)</th>\n",
              "      <th>Curricular units 2nd sem (without evaluations)</th>\n",
              "      <th>Unemployment rate</th>\n",
              "      <th>Inflation rate</th>\n",
              "      <th>GDP</th>\n",
              "      <th>Target</th>\n",
              "    </tr>\n",
              "  </thead>\n",
              "  <tbody>\n",
              "    <tr>\n",
              "      <th>0</th>\n",
              "      <td>1</td>\n",
              "      <td>17</td>\n",
              "      <td>5</td>\n",
              "      <td>171</td>\n",
              "      <td>1</td>\n",
              "      <td>1</td>\n",
              "      <td>122.0</td>\n",
              "      <td>1</td>\n",
              "      <td>19</td>\n",
              "      <td>12</td>\n",
              "      <td>...</td>\n",
              "      <td>0</td>\n",
              "      <td>0</td>\n",
              "      <td>0</td>\n",
              "      <td>0</td>\n",
              "      <td>0.000000</td>\n",
              "      <td>0</td>\n",
              "      <td>10.8</td>\n",
              "      <td>1.4</td>\n",
              "      <td>1.74</td>\n",
              "      <td>Dropout</td>\n",
              "    </tr>\n",
              "    <tr>\n",
              "      <th>1</th>\n",
              "      <td>1</td>\n",
              "      <td>15</td>\n",
              "      <td>1</td>\n",
              "      <td>9254</td>\n",
              "      <td>1</td>\n",
              "      <td>1</td>\n",
              "      <td>160.0</td>\n",
              "      <td>1</td>\n",
              "      <td>1</td>\n",
              "      <td>3</td>\n",
              "      <td>...</td>\n",
              "      <td>0</td>\n",
              "      <td>6</td>\n",
              "      <td>6</td>\n",
              "      <td>6</td>\n",
              "      <td>13.666667</td>\n",
              "      <td>0</td>\n",
              "      <td>13.9</td>\n",
              "      <td>-0.3</td>\n",
              "      <td>0.79</td>\n",
              "      <td>Graduate</td>\n",
              "    </tr>\n",
              "    <tr>\n",
              "      <th>2</th>\n",
              "      <td>1</td>\n",
              "      <td>1</td>\n",
              "      <td>5</td>\n",
              "      <td>9070</td>\n",
              "      <td>1</td>\n",
              "      <td>1</td>\n",
              "      <td>122.0</td>\n",
              "      <td>1</td>\n",
              "      <td>37</td>\n",
              "      <td>37</td>\n",
              "      <td>...</td>\n",
              "      <td>0</td>\n",
              "      <td>6</td>\n",
              "      <td>0</td>\n",
              "      <td>0</td>\n",
              "      <td>0.000000</td>\n",
              "      <td>0</td>\n",
              "      <td>10.8</td>\n",
              "      <td>1.4</td>\n",
              "      <td>1.74</td>\n",
              "      <td>Dropout</td>\n",
              "    </tr>\n",
              "    <tr>\n",
              "      <th>3</th>\n",
              "      <td>1</td>\n",
              "      <td>17</td>\n",
              "      <td>2</td>\n",
              "      <td>9773</td>\n",
              "      <td>1</td>\n",
              "      <td>1</td>\n",
              "      <td>122.0</td>\n",
              "      <td>1</td>\n",
              "      <td>38</td>\n",
              "      <td>37</td>\n",
              "      <td>...</td>\n",
              "      <td>0</td>\n",
              "      <td>6</td>\n",
              "      <td>10</td>\n",
              "      <td>5</td>\n",
              "      <td>12.400000</td>\n",
              "      <td>0</td>\n",
              "      <td>9.4</td>\n",
              "      <td>-0.8</td>\n",
              "      <td>-3.12</td>\n",
              "      <td>Graduate</td>\n",
              "    </tr>\n",
              "    <tr>\n",
              "      <th>4</th>\n",
              "      <td>2</td>\n",
              "      <td>39</td>\n",
              "      <td>1</td>\n",
              "      <td>8014</td>\n",
              "      <td>0</td>\n",
              "      <td>1</td>\n",
              "      <td>100.0</td>\n",
              "      <td>1</td>\n",
              "      <td>37</td>\n",
              "      <td>38</td>\n",
              "      <td>...</td>\n",
              "      <td>0</td>\n",
              "      <td>6</td>\n",
              "      <td>6</td>\n",
              "      <td>6</td>\n",
              "      <td>13.000000</td>\n",
              "      <td>0</td>\n",
              "      <td>13.9</td>\n",
              "      <td>-0.3</td>\n",
              "      <td>0.79</td>\n",
              "      <td>Graduate</td>\n",
              "    </tr>\n",
              "  </tbody>\n",
              "</table>\n",
              "<p>5 rows × 37 columns</p>\n",
              "</div>\n",
              "    <div class=\"colab-df-buttons\">\n",
              "\n",
              "  <div class=\"colab-df-container\">\n",
              "    <button class=\"colab-df-convert\" onclick=\"convertToInteractive('df-d3631dfb-8270-4c33-a153-8504da642195')\"\n",
              "            title=\"Convert this dataframe to an interactive table.\"\n",
              "            style=\"display:none;\">\n",
              "\n",
              "  <svg xmlns=\"http://www.w3.org/2000/svg\" height=\"24px\" viewBox=\"0 -960 960 960\">\n",
              "    <path d=\"M120-120v-720h720v720H120Zm60-500h600v-160H180v160Zm220 220h160v-160H400v160Zm0 220h160v-160H400v160ZM180-400h160v-160H180v160Zm440 0h160v-160H620v160ZM180-180h160v-160H180v160Zm440 0h160v-160H620v160Z\"/>\n",
              "  </svg>\n",
              "    </button>\n",
              "\n",
              "  <style>\n",
              "    .colab-df-container {\n",
              "      display:flex;\n",
              "      gap: 12px;\n",
              "    }\n",
              "\n",
              "    .colab-df-convert {\n",
              "      background-color: #E8F0FE;\n",
              "      border: none;\n",
              "      border-radius: 50%;\n",
              "      cursor: pointer;\n",
              "      display: none;\n",
              "      fill: #1967D2;\n",
              "      height: 32px;\n",
              "      padding: 0 0 0 0;\n",
              "      width: 32px;\n",
              "    }\n",
              "\n",
              "    .colab-df-convert:hover {\n",
              "      background-color: #E2EBFA;\n",
              "      box-shadow: 0px 1px 2px rgba(60, 64, 67, 0.3), 0px 1px 3px 1px rgba(60, 64, 67, 0.15);\n",
              "      fill: #174EA6;\n",
              "    }\n",
              "\n",
              "    .colab-df-buttons div {\n",
              "      margin-bottom: 4px;\n",
              "    }\n",
              "\n",
              "    [theme=dark] .colab-df-convert {\n",
              "      background-color: #3B4455;\n",
              "      fill: #D2E3FC;\n",
              "    }\n",
              "\n",
              "    [theme=dark] .colab-df-convert:hover {\n",
              "      background-color: #434B5C;\n",
              "      box-shadow: 0px 1px 3px 1px rgba(0, 0, 0, 0.15);\n",
              "      filter: drop-shadow(0px 1px 2px rgba(0, 0, 0, 0.3));\n",
              "      fill: #FFFFFF;\n",
              "    }\n",
              "  </style>\n",
              "\n",
              "    <script>\n",
              "      const buttonEl =\n",
              "        document.querySelector('#df-d3631dfb-8270-4c33-a153-8504da642195 button.colab-df-convert');\n",
              "      buttonEl.style.display =\n",
              "        google.colab.kernel.accessAllowed ? 'block' : 'none';\n",
              "\n",
              "      async function convertToInteractive(key) {\n",
              "        const element = document.querySelector('#df-d3631dfb-8270-4c33-a153-8504da642195');\n",
              "        const dataTable =\n",
              "          await google.colab.kernel.invokeFunction('convertToInteractive',\n",
              "                                                    [key], {});\n",
              "        if (!dataTable) return;\n",
              "\n",
              "        const docLinkHtml = 'Like what you see? Visit the ' +\n",
              "          '<a target=\"_blank\" href=https://colab.research.google.com/notebooks/data_table.ipynb>data table notebook</a>'\n",
              "          + ' to learn more about interactive tables.';\n",
              "        element.innerHTML = '';\n",
              "        dataTable['output_type'] = 'display_data';\n",
              "        await google.colab.output.renderOutput(dataTable, element);\n",
              "        const docLink = document.createElement('div');\n",
              "        docLink.innerHTML = docLinkHtml;\n",
              "        element.appendChild(docLink);\n",
              "      }\n",
              "    </script>\n",
              "  </div>\n",
              "\n",
              "\n",
              "    <div id=\"df-7c056115-817a-47de-ba55-836e0e2a1774\">\n",
              "      <button class=\"colab-df-quickchart\" onclick=\"quickchart('df-7c056115-817a-47de-ba55-836e0e2a1774')\"\n",
              "                title=\"Suggest charts\"\n",
              "                style=\"display:none;\">\n",
              "\n",
              "<svg xmlns=\"http://www.w3.org/2000/svg\" height=\"24px\"viewBox=\"0 0 24 24\"\n",
              "     width=\"24px\">\n",
              "    <g>\n",
              "        <path d=\"M19 3H5c-1.1 0-2 .9-2 2v14c0 1.1.9 2 2 2h14c1.1 0 2-.9 2-2V5c0-1.1-.9-2-2-2zM9 17H7v-7h2v7zm4 0h-2V7h2v10zm4 0h-2v-4h2v4z\"/>\n",
              "    </g>\n",
              "</svg>\n",
              "      </button>\n",
              "\n",
              "<style>\n",
              "  .colab-df-quickchart {\n",
              "      --bg-color: #E8F0FE;\n",
              "      --fill-color: #1967D2;\n",
              "      --hover-bg-color: #E2EBFA;\n",
              "      --hover-fill-color: #174EA6;\n",
              "      --disabled-fill-color: #AAA;\n",
              "      --disabled-bg-color: #DDD;\n",
              "  }\n",
              "\n",
              "  [theme=dark] .colab-df-quickchart {\n",
              "      --bg-color: #3B4455;\n",
              "      --fill-color: #D2E3FC;\n",
              "      --hover-bg-color: #434B5C;\n",
              "      --hover-fill-color: #FFFFFF;\n",
              "      --disabled-bg-color: #3B4455;\n",
              "      --disabled-fill-color: #666;\n",
              "  }\n",
              "\n",
              "  .colab-df-quickchart {\n",
              "    background-color: var(--bg-color);\n",
              "    border: none;\n",
              "    border-radius: 50%;\n",
              "    cursor: pointer;\n",
              "    display: none;\n",
              "    fill: var(--fill-color);\n",
              "    height: 32px;\n",
              "    padding: 0;\n",
              "    width: 32px;\n",
              "  }\n",
              "\n",
              "  .colab-df-quickchart:hover {\n",
              "    background-color: var(--hover-bg-color);\n",
              "    box-shadow: 0 1px 2px rgba(60, 64, 67, 0.3), 0 1px 3px 1px rgba(60, 64, 67, 0.15);\n",
              "    fill: var(--button-hover-fill-color);\n",
              "  }\n",
              "\n",
              "  .colab-df-quickchart-complete:disabled,\n",
              "  .colab-df-quickchart-complete:disabled:hover {\n",
              "    background-color: var(--disabled-bg-color);\n",
              "    fill: var(--disabled-fill-color);\n",
              "    box-shadow: none;\n",
              "  }\n",
              "\n",
              "  .colab-df-spinner {\n",
              "    border: 2px solid var(--fill-color);\n",
              "    border-color: transparent;\n",
              "    border-bottom-color: var(--fill-color);\n",
              "    animation:\n",
              "      spin 1s steps(1) infinite;\n",
              "  }\n",
              "\n",
              "  @keyframes spin {\n",
              "    0% {\n",
              "      border-color: transparent;\n",
              "      border-bottom-color: var(--fill-color);\n",
              "      border-left-color: var(--fill-color);\n",
              "    }\n",
              "    20% {\n",
              "      border-color: transparent;\n",
              "      border-left-color: var(--fill-color);\n",
              "      border-top-color: var(--fill-color);\n",
              "    }\n",
              "    30% {\n",
              "      border-color: transparent;\n",
              "      border-left-color: var(--fill-color);\n",
              "      border-top-color: var(--fill-color);\n",
              "      border-right-color: var(--fill-color);\n",
              "    }\n",
              "    40% {\n",
              "      border-color: transparent;\n",
              "      border-right-color: var(--fill-color);\n",
              "      border-top-color: var(--fill-color);\n",
              "    }\n",
              "    60% {\n",
              "      border-color: transparent;\n",
              "      border-right-color: var(--fill-color);\n",
              "    }\n",
              "    80% {\n",
              "      border-color: transparent;\n",
              "      border-right-color: var(--fill-color);\n",
              "      border-bottom-color: var(--fill-color);\n",
              "    }\n",
              "    90% {\n",
              "      border-color: transparent;\n",
              "      border-bottom-color: var(--fill-color);\n",
              "    }\n",
              "  }\n",
              "</style>\n",
              "\n",
              "      <script>\n",
              "        async function quickchart(key) {\n",
              "          const quickchartButtonEl =\n",
              "            document.querySelector('#' + key + ' button');\n",
              "          quickchartButtonEl.disabled = true;  // To prevent multiple clicks.\n",
              "          quickchartButtonEl.classList.add('colab-df-spinner');\n",
              "          try {\n",
              "            const charts = await google.colab.kernel.invokeFunction(\n",
              "                'suggestCharts', [key], {});\n",
              "          } catch (error) {\n",
              "            console.error('Error during call to suggestCharts:', error);\n",
              "          }\n",
              "          quickchartButtonEl.classList.remove('colab-df-spinner');\n",
              "          quickchartButtonEl.classList.add('colab-df-quickchart-complete');\n",
              "        }\n",
              "        (() => {\n",
              "          let quickchartButtonEl =\n",
              "            document.querySelector('#df-7c056115-817a-47de-ba55-836e0e2a1774 button');\n",
              "          quickchartButtonEl.style.display =\n",
              "            google.colab.kernel.accessAllowed ? 'block' : 'none';\n",
              "        })();\n",
              "      </script>\n",
              "    </div>\n",
              "\n",
              "    </div>\n",
              "  </div>\n"
            ],
            "application/vnd.google.colaboratory.intrinsic+json": {
              "type": "dataframe",
              "variable_name": "df"
            }
          },
          "metadata": {},
          "execution_count": 2
        }
      ]
    },
    {
      "cell_type": "code",
      "source": [
        "df['Mother\\'s qualification'].value_counts()"
      ],
      "metadata": {
        "colab": {
          "base_uri": "https://localhost:8080/",
          "height": 1000
        },
        "id": "OIw_XyL-4Hfe",
        "outputId": "65b1a01e-92d9-468f-e409-ecf5b66affc3"
      },
      "execution_count": null,
      "outputs": [
        {
          "output_type": "execute_result",
          "data": {
            "text/plain": [
              "Mother's qualification\n",
              "1     1069\n",
              "37    1009\n",
              "19     953\n",
              "38     562\n",
              "3      438\n",
              "34     130\n",
              "2       83\n",
              "4       49\n",
              "12      42\n",
              "5       21\n",
              "40       9\n",
              "9        8\n",
              "39       8\n",
              "41       6\n",
              "42       4\n",
              "6        4\n",
              "43       4\n",
              "30       3\n",
              "35       3\n",
              "36       3\n",
              "11       3\n",
              "29       3\n",
              "10       3\n",
              "14       2\n",
              "18       1\n",
              "22       1\n",
              "27       1\n",
              "26       1\n",
              "44       1\n",
              "Name: count, dtype: int64"
            ],
            "text/html": [
              "<div>\n",
              "<style scoped>\n",
              "    .dataframe tbody tr th:only-of-type {\n",
              "        vertical-align: middle;\n",
              "    }\n",
              "\n",
              "    .dataframe tbody tr th {\n",
              "        vertical-align: top;\n",
              "    }\n",
              "\n",
              "    .dataframe thead th {\n",
              "        text-align: right;\n",
              "    }\n",
              "</style>\n",
              "<table border=\"1\" class=\"dataframe\">\n",
              "  <thead>\n",
              "    <tr style=\"text-align: right;\">\n",
              "      <th></th>\n",
              "      <th>count</th>\n",
              "    </tr>\n",
              "    <tr>\n",
              "      <th>Mother's qualification</th>\n",
              "      <th></th>\n",
              "    </tr>\n",
              "  </thead>\n",
              "  <tbody>\n",
              "    <tr>\n",
              "      <th>1</th>\n",
              "      <td>1069</td>\n",
              "    </tr>\n",
              "    <tr>\n",
              "      <th>37</th>\n",
              "      <td>1009</td>\n",
              "    </tr>\n",
              "    <tr>\n",
              "      <th>19</th>\n",
              "      <td>953</td>\n",
              "    </tr>\n",
              "    <tr>\n",
              "      <th>38</th>\n",
              "      <td>562</td>\n",
              "    </tr>\n",
              "    <tr>\n",
              "      <th>3</th>\n",
              "      <td>438</td>\n",
              "    </tr>\n",
              "    <tr>\n",
              "      <th>34</th>\n",
              "      <td>130</td>\n",
              "    </tr>\n",
              "    <tr>\n",
              "      <th>2</th>\n",
              "      <td>83</td>\n",
              "    </tr>\n",
              "    <tr>\n",
              "      <th>4</th>\n",
              "      <td>49</td>\n",
              "    </tr>\n",
              "    <tr>\n",
              "      <th>12</th>\n",
              "      <td>42</td>\n",
              "    </tr>\n",
              "    <tr>\n",
              "      <th>5</th>\n",
              "      <td>21</td>\n",
              "    </tr>\n",
              "    <tr>\n",
              "      <th>40</th>\n",
              "      <td>9</td>\n",
              "    </tr>\n",
              "    <tr>\n",
              "      <th>9</th>\n",
              "      <td>8</td>\n",
              "    </tr>\n",
              "    <tr>\n",
              "      <th>39</th>\n",
              "      <td>8</td>\n",
              "    </tr>\n",
              "    <tr>\n",
              "      <th>41</th>\n",
              "      <td>6</td>\n",
              "    </tr>\n",
              "    <tr>\n",
              "      <th>42</th>\n",
              "      <td>4</td>\n",
              "    </tr>\n",
              "    <tr>\n",
              "      <th>6</th>\n",
              "      <td>4</td>\n",
              "    </tr>\n",
              "    <tr>\n",
              "      <th>43</th>\n",
              "      <td>4</td>\n",
              "    </tr>\n",
              "    <tr>\n",
              "      <th>30</th>\n",
              "      <td>3</td>\n",
              "    </tr>\n",
              "    <tr>\n",
              "      <th>35</th>\n",
              "      <td>3</td>\n",
              "    </tr>\n",
              "    <tr>\n",
              "      <th>36</th>\n",
              "      <td>3</td>\n",
              "    </tr>\n",
              "    <tr>\n",
              "      <th>11</th>\n",
              "      <td>3</td>\n",
              "    </tr>\n",
              "    <tr>\n",
              "      <th>29</th>\n",
              "      <td>3</td>\n",
              "    </tr>\n",
              "    <tr>\n",
              "      <th>10</th>\n",
              "      <td>3</td>\n",
              "    </tr>\n",
              "    <tr>\n",
              "      <th>14</th>\n",
              "      <td>2</td>\n",
              "    </tr>\n",
              "    <tr>\n",
              "      <th>18</th>\n",
              "      <td>1</td>\n",
              "    </tr>\n",
              "    <tr>\n",
              "      <th>22</th>\n",
              "      <td>1</td>\n",
              "    </tr>\n",
              "    <tr>\n",
              "      <th>27</th>\n",
              "      <td>1</td>\n",
              "    </tr>\n",
              "    <tr>\n",
              "      <th>26</th>\n",
              "      <td>1</td>\n",
              "    </tr>\n",
              "    <tr>\n",
              "      <th>44</th>\n",
              "      <td>1</td>\n",
              "    </tr>\n",
              "  </tbody>\n",
              "</table>\n",
              "</div><br><label><b>dtype:</b> int64</label>"
            ]
          },
          "metadata": {},
          "execution_count": 3
        }
      ]
    },
    {
      "cell_type": "markdown",
      "source": [
        "Numa primeira exploração, os dois gráficos abaixo mostram uma relação de dropout dos alunos em seus cursos com notas baixas tiradas"
      ],
      "metadata": {
        "id": "GYadERzbk_Vr"
      }
    },
    {
      "cell_type": "code",
      "source": [
        "dropout_df = df[df['Target'] == 'Dropout']\n",
        "\n",
        "sns.barplot(data=df, x='Target',y='Curricular units 2nd sem (grade)')\n"
      ],
      "metadata": {
        "colab": {
          "base_uri": "https://localhost:8080/",
          "height": 466
        },
        "id": "mcvrFlCfhnPj",
        "outputId": "e5d4dcbe-86c4-41fb-935e-ba628dd3e110"
      },
      "execution_count": null,
      "outputs": [
        {
          "output_type": "execute_result",
          "data": {
            "text/plain": [
              "<Axes: xlabel='Target', ylabel='Curricular units 2nd sem (grade)'>"
            ]
          },
          "metadata": {},
          "execution_count": 4
        },
        {
          "output_type": "display_data",
          "data": {
            "text/plain": [
              "<Figure size 640x480 with 1 Axes>"
            ],
            "image/png": "[encoded data removed]"
          },
          "metadata": {}
        }
      ]
    },
    {
      "cell_type": "code",
      "source": [
        "dropout_df = df[df['Target'] == 'Dropout']\n",
        "\n",
        "sns.barplot(data=df, x='Target',y='Curricular units 1st sem (grade)')\n"
      ],
      "metadata": {
        "colab": {
          "base_uri": "https://localhost:8080/",
          "height": 466
        },
        "id": "ykdaLVVZlG5Y",
        "outputId": "808001e5-ee64-45be-b6bd-7b0cbe6947f7"
      },
      "execution_count": null,
      "outputs": [
        {
          "output_type": "execute_result",
          "data": {
            "text/plain": [
              "<Axes: xlabel='Target', ylabel='Curricular units 1st sem (grade)'>"
            ]
          },
          "metadata": {},
          "execution_count": 5
        },
        {
          "output_type": "display_data",
          "data": {
            "text/plain": [
              "<Figure size 640x480 with 1 Axes>"
            ],
            "image/png": "[encoded data removed]"
          },
          "metadata": {}
        }
      ]
    },
    {
      "cell_type": "markdown",
      "source": [
        "No processo de decisão de inclusão de variáveis para o treinamento decidi que aquelas com valores categoricos muito discrepantes em relação às demais não deveriam ser inclusas. ex: Nacionalidade - Português(apenas 1 instancia), Americano(4000 instancias)."
      ],
      "metadata": {
        "id": "9OyXghVKbV4r"
      }
    },
    {
      "cell_type": "markdown",
      "source": [
        "Como a variável \"Nacionalidade\" possui discrepância nas categorias estrangeiras e na outra variável \"Tipo de ingresso\" existe a categoria \"estudante internacional\", decidi que seria melhor deixar apenas segunda, pois além de tudo manter as duas seria redundante."
      ],
      "metadata": {
        "id": "NYkxPiMFdAiX"
      }
    },
    {
      "cell_type": "markdown",
      "source": [
        "aqui dropo outras variaveis que não agregaram no desempenho do modelo"
      ],
      "metadata": {
        "id": "X2XmGWy6kQxe"
      }
    },
    {
      "cell_type": "code",
      "source": [
        "variables_to_drop = [\"Marital status\",\"Nacionality\",\"Mother's occupation\",\n",
        "                     \"Educational special needs\",\"Father's occupation\",\"Previous qualification\",\n",
        "                     \"Application order\",\"Previous qualification\",\"Age at enrollment\",\"Gender\",\n",
        "                     \"Displaced\",\"Application mode\",\"Daytime/evening attendance\\t\",\"International\",\n",
        "                      \"Curricular units 2nd sem (without evaluations)\", \"Debtor\"]\n"
      ],
      "metadata": {
        "id": "jsqzh8ZhfMCH"
      },
      "execution_count": null,
      "outputs": []
    },
    {
      "cell_type": "markdown",
      "source": [
        "dropando variaveis redundantes, fracas, e discrepantes."
      ],
      "metadata": {
        "id": "h9j5Zrn_l41C"
      }
    },
    {
      "cell_type": "code",
      "source": [
        "df.drop(columns=variables_to_drop,inplace=True)"
      ],
      "metadata": {
        "id": "fvt2dPSxg2kc"
      },
      "execution_count": null,
      "outputs": []
    },
    {
      "cell_type": "code",
      "source": [
        "df_filtered = df[df['Target'] != 'Enrolled'].copy()"
      ],
      "metadata": {
        "id": "--2iqbg9cuxk"
      },
      "execution_count": null,
      "outputs": []
    },
    {
      "cell_type": "markdown",
      "source": [
        "Definindo o que serão os dados de treino e teste e encodando o Target"
      ],
      "metadata": {
        "id": "FzqcZ_DrmJIC"
      }
    },
    {
      "cell_type": "code",
      "source": [
        "from sklearn.pipeline import Pipeline\n",
        "from sklearn.preprocessing import LabelEncoder\n",
        "\n",
        "\n",
        "y = df_filtered['Target']\n",
        "X = df_filtered.drop(columns='Target')\n",
        "\n",
        "label_encoder = LabelEncoder()\n",
        "y_encoded = label_encoder.fit_transform(y)"
      ],
      "metadata": {
        "id": "ne65cfZ1jx2F"
      },
      "execution_count": null,
      "outputs": []
    },
    {
      "cell_type": "markdown",
      "source": [
        "é possivel ver que no grafico abaixo há um número considerável de alunos que tem nota zero no segundo semestre. Significando que muitos alunos podem ter saido do curso no primeiro semestre, o que distorce a média das notas do segundo. Por isso, vou criar uma variavel chamada \"zero grade\" para explicitar esses alunos \"zero\" para o modelo, para ele saber que esses alunos são diferentes"
      ],
      "metadata": {
        "id": "SnJ0hLhw0_uD"
      }
    },
    {
      "cell_type": "code",
      "source": [
        "sns.histplot(df['Curricular units 2nd sem (grade)'], bins=20)\n",
        "plt.xlabel('')\n",
        "plt.ylabel('Frequency')\n",
        "plt.show()"
      ],
      "metadata": {
        "colab": {
          "base_uri": "https://localhost:8080/",
          "height": 430
        },
        "id": "NxuZDzGllqla",
        "outputId": "d5534055-7a31-40e9-9bc5-82a81107b7ac"
      },
      "execution_count": null,
      "outputs": [
        {
          "output_type": "display_data",
          "data": {
            "text/plain": [
              "<Figure size 640x480 with 1 Axes>"
            ],
            "image/png": "[encoded data removed]"
          },
          "metadata": {}
        }
      ]
    },
    {
      "cell_type": "code",
      "source": [],
      "metadata": {
        "id": "Roh92QriOXeE"
      },
      "execution_count": null,
      "outputs": []
    },
    {
      "cell_type": "markdown",
      "source": [
        "fazendo feature engineering:\n",
        "\n",
        "1.taxa de aprovação do semetre = N de materias aprovadas / N materias matriculadas. No primeiro e segundo semestres\n",
        "\n",
        "2.Delta da taxa de aprovação do 2o semestre em relação as do 1o semestre = tx aprv 2o semestre - tx aprv 1o semestre."
      ],
      "metadata": {
        "id": "hYu-Ax6ftXqc"
      }
    },
    {
      "cell_type": "code",
      "source": [
        "X['Second sem approval rate'] = X['Curricular units 2nd sem (approved)'] / (X['Curricular units 2nd sem (enrolled)'] + 1e-6)\n",
        "\n",
        "X['First sem approval rate'] = X['Curricular units 1st sem (approved)'] / (X['Curricular units 1st sem (enrolled)'] + 1e-6)\n",
        "\n",
        "X['delta approv'] = X['Curricular units 2nd sem (grade)'] - X['Curricular units 1st sem (grade)']"
      ],
      "metadata": {
        "id": "TH7r0upHtD6G"
      },
      "execution_count": null,
      "outputs": []
    },
    {
      "cell_type": "markdown",
      "source": [
        "segmento as areas dos cursos em partes menores."
      ],
      "metadata": {
        "id": "geFDk0FHCwIz"
      }
    },
    {
      "cell_type": "code",
      "source": [
        "course_category_map = {\n",
        "    171: 0, 9070: 0, 9670: 0, 9773: 0,  # Comunicação e Design\n",
        "    8014: 1, 9238: 1, 9853: 1,          # Serviço Social / Educação\n",
        "    9003: 2, 9147: 2, 9254: 2, 9991: 2, # Gestão / Administração\n",
        "    9085: 3, 9500: 3, 9556: 3,          # Saúde\n",
        "    33: 4, 9119: 4,                     # Tecnologia\n",
        "    9130: 5                            # Outros (específico demais)\n",
        "}\n",
        "\n",
        "X['course_category'] = X['Course'].map(course_category_map)"
      ],
      "metadata": {
        "id": "5B4mxD1yCs16"
      },
      "execution_count": null,
      "outputs": []
    },
    {
      "cell_type": "markdown",
      "source": [
        "varivel dizendo as materias com desistência ou reprovação"
      ],
      "metadata": {
        "id": "f7tPy-TlKemJ"
      }
    },
    {
      "cell_type": "code",
      "source": [
        "X['materias_reprovadas_1sem'] = X['Curricular units 1st sem (enrolled)'] - X['Curricular units 1st sem (approved)']\n",
        "X['materias_reprovadas_2sem'] = X['Curricular units 2nd sem (enrolled)'] - X['Curricular units 2nd sem (approved)']"
      ],
      "metadata": {
        "id": "71b8fh4tKcVA"
      },
      "execution_count": null,
      "outputs": []
    },
    {
      "cell_type": "markdown",
      "source": [
        "esplitando o dataset em treino teste e validação de forma estratificada"
      ],
      "metadata": {
        "id": "AgiiZegjkPy6"
      }
    },
    {
      "cell_type": "code",
      "source": [],
      "metadata": {
        "id": "hVU4WxUQcp2e"
      },
      "execution_count": null,
      "outputs": []
    },
    {
      "cell_type": "code",
      "source": [
        "from sklearn.model_selection import train_test_split\n",
        "from sklearn.preprocessing import LabelEncoder\n",
        "\n",
        "from sklearn.model_selection import train_test_split\n",
        "\n",
        "X_train, X_temp, y_train, y_temp = train_test_split(X, y_encoded, test_size=0.3, random_state=42, stratify=y)\n",
        "X_val, X_test, y_val, y_test = train_test_split(X_temp, y_temp, test_size=0.5, random_state=42, stratify=y_temp)\n",
        "\n",
        "print(f\"Tamanho do conjunto de treinamento: {X_train.shape}\")\n",
        "print(f\"Tamanho do conjunto de validação: {X_val.shape}\")\n",
        "print(f\"Tamanho do conjunto de teste: {X_test.shape}\")\n",
        "\n"
      ],
      "metadata": {
        "colab": {
          "base_uri": "https://localhost:8080/"
        },
        "id": "QzYUlmRcX7xY",
        "outputId": "8f4c1eea-438b-43ec-9d25-adbd7077e548"
      },
      "execution_count": null,
      "outputs": [
        {
          "output_type": "stream",
          "name": "stdout",
          "text": [
            "Tamanho do conjunto de treinamento: (2541, 27)\n",
            "Tamanho do conjunto de validação: (544, 27)\n",
            "Tamanho do conjunto de teste: (545, 27)\n"
          ]
        }
      ]
    },
    {
      "cell_type": "code",
      "source": [
        "print(\"Columns in X_train:\", X_train.columns.tolist())\n"
      ],
      "metadata": {
        "colab": {
          "base_uri": "https://localhost:8080/"
        },
        "id": "wuXk1ot105OY",
        "outputId": "3d55a315-a75d-4ae8-d83c-bdfed74cc5fd"
      },
      "execution_count": null,
      "outputs": [
        {
          "output_type": "stream",
          "name": "stdout",
          "text": [
            "Columns in X_train: ['Course', 'Previous qualification (grade)', \"Mother's qualification\", \"Father's qualification\", 'Admission grade', 'Tuition fees up to date', 'Scholarship holder', 'Curricular units 1st sem (credited)', 'Curricular units 1st sem (enrolled)', 'Curricular units 1st sem (evaluations)', 'Curricular units 1st sem (approved)', 'Curricular units 1st sem (grade)', 'Curricular units 1st sem (without evaluations)', 'Curricular units 2nd sem (credited)', 'Curricular units 2nd sem (enrolled)', 'Curricular units 2nd sem (evaluations)', 'Curricular units 2nd sem (approved)', 'Curricular units 2nd sem (grade)', 'Unemployment rate', 'Inflation rate', 'GDP', 'Second sem approval rate', 'First sem approval rate', 'delta approv', 'course_category', 'materias_reprovadas_1sem', 'materias_reprovadas_2sem']\n"
          ]
        }
      ]
    },
    {
      "cell_type": "markdown",
      "source": [
        "função para eliminar outliers atraves do limite interquartil"
      ],
      "metadata": {
        "id": "JKFIlXwUsNeq"
      }
    },
    {
      "cell_type": "code",
      "source": [
        "X_treated = X.copy()\n",
        "\n",
        "def treat_outliers_iqr(X_treated, column):\n",
        "    Q1 = df[column].quantile(0.25)\n",
        "    Q3 = df[column].quantile(0.75)\n",
        "    IQR = Q3 - Q1\n",
        "    lower_bound = Q1 - 1.5 * IQR\n",
        "    upper_bound = Q3 + 1.5 * IQR\n",
        "\n",
        "    X_treated[column] = np.clip(X_treated[column], lower_bound, upper_bound)\n",
        "\n",
        "    return X_treated\n"
      ],
      "metadata": {
        "id": "fWPT_89MnllV"
      },
      "execution_count": null,
      "outputs": []
    },
    {
      "cell_type": "markdown",
      "source": [
        "eliminando os outliers da variavel \"numero de avaliações\", onde numeros altos demais não sao representatios."
      ],
      "metadata": {
        "id": "KZ7jNEDpr8Zp"
      }
    },
    {
      "cell_type": "code",
      "source": [
        "X_treated = treat_outliers_iqr(X_treated, 'Curricular units 1st sem (evaluations)')\n",
        "\n",
        "X_treated = treat_outliers_iqr(X_treated, 'Curricular units 2nd sem (evaluations)')\n"
      ],
      "metadata": {
        "id": "rP0QEMOxobWf"
      },
      "execution_count": null,
      "outputs": []
    },
    {
      "cell_type": "markdown",
      "source": [
        "definindo variaveis continuas e discretas"
      ],
      "metadata": {
        "id": "Ki0UEU1oksB9"
      }
    },
    {
      "cell_type": "markdown",
      "source": [],
      "metadata": {
        "id": "B7UyeJ8rbCRm"
      }
    },
    {
      "cell_type": "code",
      "source": [
        "continuous_var = ['Previous qualification (grade)','Admission grade','Unemployment rate',\n",
        "               'Inflation rate','GDP', 'Curricular units 1st sem (evaluations)',\n",
        "               'Curricular units 1st sem (grade)','First sem approval rate',\n",
        "               'First sem approval rate'\n",
        "                ]\n"
      ],
      "metadata": {
        "id": "lDBBekzdamcr"
      },
      "execution_count": null,
      "outputs": []
    },
    {
      "cell_type": "code",
      "source": [
        "discrete_var = ['Tuition fees up to date','Scholarship holder','course_category']\n"
      ],
      "metadata": {
        "id": "LehvjkSxfb88"
      },
      "execution_count": null,
      "outputs": []
    },
    {
      "cell_type": "markdown",
      "source": [
        "aplicando um preprocessador para preprocessamento das variaveis selecionadas"
      ],
      "metadata": {
        "id": "6InrCDhak2Ag"
      }
    },
    {
      "cell_type": "code",
      "source": [
        "from sklearn.pipeline import Pipeline\n",
        "from sklearn.compose import ColumnTransformer\n",
        "from sklearn.preprocessing import StandardScaler, OneHotEncoder, LabelEncoder,OrdinalEncoder\n",
        "\n",
        "preprocessor = ColumnTransformer(\n",
        "    transformers=[\n",
        "        ('num', StandardScaler(), continuous_var),\n",
        "        ('cat_onehot', OneHotEncoder(handle_unknown='ignore'), discrete_var)\n",
        "    ])\n",
        "\n",
        "pipeline = Pipeline(\n",
        "    steps=[\n",
        "        ('preprocessor', preprocessor)\n",
        "])"
      ],
      "metadata": {
        "id": "ArII4kjbZnmZ"
      },
      "execution_count": null,
      "outputs": []
    },
    {
      "cell_type": "markdown",
      "source": [
        "transformando os dados de treinamento e inicializando um modelo de random forests.\n",
        "\n",
        "também, aplicando smote para tratar as classes enrolled e dropout, que estão desbalanceadas em relação a graduate"
      ],
      "metadata": {
        "id": "J-UpR0belCAV"
      }
    },
    {
      "cell_type": "code",
      "source": [
        "df_filtered['Target'].value_counts()"
      ],
      "metadata": {
        "colab": {
          "base_uri": "https://localhost:8080/",
          "height": 178
        },
        "id": "MLCRv9q7r_p5",
        "outputId": "bb3ec5ac-c57a-425e-eb4a-efc15564caab"
      },
      "execution_count": null,
      "outputs": [
        {
          "output_type": "execute_result",
          "data": {
            "text/plain": [
              "Target\n",
              "Graduate    2209\n",
              "Dropout     1421\n",
              "Name: count, dtype: int64"
            ],
            "text/html": [
              "<div>\n",
              "<style scoped>\n",
              "    .dataframe tbody tr th:only-of-type {\n",
              "        vertical-align: middle;\n",
              "    }\n",
              "\n",
              "    .dataframe tbody tr th {\n",
              "        vertical-align: top;\n",
              "    }\n",
              "\n",
              "    .dataframe thead th {\n",
              "        text-align: right;\n",
              "    }\n",
              "</style>\n",
              "<table border=\"1\" class=\"dataframe\">\n",
              "  <thead>\n",
              "    <tr style=\"text-align: right;\">\n",
              "      <th></th>\n",
              "      <th>count</th>\n",
              "    </tr>\n",
              "    <tr>\n",
              "      <th>Target</th>\n",
              "      <th></th>\n",
              "    </tr>\n",
              "  </thead>\n",
              "  <tbody>\n",
              "    <tr>\n",
              "      <th>Graduate</th>\n",
              "      <td>2209</td>\n",
              "    </tr>\n",
              "    <tr>\n",
              "      <th>Dropout</th>\n",
              "      <td>1421</td>\n",
              "    </tr>\n",
              "  </tbody>\n",
              "</table>\n",
              "</div><br><label><b>dtype:</b> int64</label>"
            ]
          },
          "metadata": {},
          "execution_count": 21
        }
      ]
    },
    {
      "cell_type": "code",
      "source": [
        "\n",
        "from sklearn.ensemble import RandomForestClassifier\n",
        "from sklearn.metrics import accuracy_score, precision_recall_fscore_support\n",
        "from sklearn.model_selection import RandomizedSearchCV\n",
        "from scipy.stats import randint\n",
        "from imblearn.over_sampling import SMOTE\n",
        "from collections import Counter\n",
        "\n",
        "param_distributions = {\n",
        "    'n_estimators': randint(100, 130),\n",
        "    'max_depth': randint(5, 10),\n",
        "    'min_samples_split': randint(2, 15),\n",
        "    'min_samples_leaf': randint(1, 15),\n",
        "    'bootstrap': [True, False],\n",
        "    'criterion': ['gini', 'entropy']\n",
        "}\n",
        "preprocessor.fit(X_train)\n",
        "\n",
        "\n",
        "X_train_transformed = preprocessor.transform(X_train)\n",
        "\n",
        "original_counts = Counter(y_train)\n",
        "print(f\"Original dataset shape %s\" % original_counts)\n",
        "\n",
        "sm = SMOTE(random_state=42)\n",
        "\n",
        "X_train_res, y_train_res = sm.fit_resample(X_train_transformed, y_train)\n",
        "\n",
        "X_test_transformed = preprocessor.transform(X_test)\n",
        "\n",
        "resampled_counts = Counter(y_train_res)\n",
        "print(f\"Resampled dataset shape %s\" % resampled_counts)\n",
        "\n"
      ],
      "metadata": {
        "colab": {
          "base_uri": "https://localhost:8080/"
        },
        "id": "BpH4acx4wfDr",
        "outputId": "19e52453-ea8e-4ea7-d7cc-907143aff866"
      },
      "execution_count": null,
      "outputs": [
        {
          "output_type": "stream",
          "name": "stdout",
          "text": [
            "Original dataset shape Counter({np.int64(1): 1546, np.int64(0): 995})\n",
            "Resampled dataset shape Counter({np.int64(1): 1546, np.int64(0): 1546})\n"
          ]
        }
      ]
    },
    {
      "cell_type": "markdown",
      "source": [
        "tamanho das classes do data set original: 1546 - graduate, 994 - dropout, 556 - enrolled.\n",
        "\n",
        "tamanho das classes após o Counter do smote: 1546 - todas as classes.\n",
        "\n",
        "o smote foi aplicado nos dados de treino."
      ],
      "metadata": {
        "id": "VV6J7cubmKco"
      }
    },
    {
      "cell_type": "markdown",
      "source": [
        "no codigo abaixo é finalizado o smote e inicializado um processo de randomized search, para achar o modelo com os parametros que obtiveram o melhor resultado.\n",
        "\n",
        "---\n",
        "\n"
      ],
      "metadata": {
        "id": "Sx7MrJvdnEzF"
      }
    },
    {
      "cell_type": "markdown",
      "source": [
        "\n",
        "\n",
        "a ultima parte deste codigo \"feature importances\" capta os nomes das variaveis, adquire suas importancias em relação ao modelo e depois faz um gráfico de barras que mostra os valores das importancias de cada variavel."
      ],
      "metadata": {
        "id": "JbQNTuMLn_-j"
      }
    },
    {
      "cell_type": "code",
      "source": [
        "print(\"\\nNumber of synthetic samples created by SMOTE:\")\n",
        "majority_class_count = max(original_counts.values())\n",
        "\n",
        "for class_label, original_count in original_counts.items():\n",
        "    resampled_count = resampled_counts[class_label]\n",
        "    if resampled_count > original_count:\n",
        "        synthetic_samples = resampled_count - original_count\n",
        "        print(f\"  Class {class_label}: {synthetic_samples} synthetic samples created\")\n",
        "    else:\n",
        "         print(f\"  Class {class_label}: No synthetic samples created (or undersampled, though SMOTE is oversampling)\")\n",
        "\n",
        "\n",
        "random_search = RandomizedSearchCV(\n",
        "    estimator=RandomForestClassifier(random_state=42), # Create a new instance for RandomizedSearchCV\n",
        "    param_distributions=param_distributions,\n",
        "    n_iter=15,\n",
        "    cv=2,\n",
        "    scoring='f1_macro',\n",
        "    random_state=42\n",
        ")\n",
        "\n",
        "# Realiza o random search nos dados de treinamento rebalanceados e TRANSFORMADOS\n",
        "random_search.fit(X_train_res, y_train_res)\n",
        "\n",
        "best_params = random_search.best_params_\n",
        "best_score = random_search.best_score_\n",
        "\n",
        "print(f\"\\nBest parameters found: {best_params}\")\n",
        "print(f\"Best cross-validation accuracy: {best_score:.4f}\")\n",
        "\n",
        "# O melhor modelo encontrado\n",
        "best_rf_model = random_search.best_estimator_\n",
        "\n",
        "# --- Get Feature Importances ---\n",
        "\n",
        "feature_importances = best_rf_model.feature_importances_\n",
        "\n",
        "try:\n",
        "\n",
        "    if hasattr(preprocessor, 'get_feature_names_out'):\n",
        "\n",
        "        feature_names_transformed = preprocessor.get_feature_names_out()\n",
        "\n",
        "    elif hasattr(preprocessor, 'get_feature_names'):\n",
        "\n",
        "         feature_names_transformed = preprocessor.get_feature_names(input_features=X_train.columns) # Use original column names\n",
        "    else:\n",
        "        print(\"Warning: Could not automatically get transformed feature names. Listing by index.\")\n",
        "\n",
        "        feature_names_transformed = [f\"feature_{i}\" for i in range(X_train_res.shape[1])]\n",
        "\n",
        "except Exception as e:\n",
        "     print(f\"Error getting transformed feature names: {e}\")\n",
        "     feature_names_transformed = [f\"feature_{i}\" for i in range(X_train_res.shape[1])]\n",
        "\n",
        "\n",
        "feature_importance_series = pd.Series(feature_importances, index=feature_names_transformed)\n",
        "\n",
        "sorted_feature_importance = feature_importance_series.sort_values(ascending=False)\n",
        "\n",
        "print(\"\\nFeature Importances (Sorted):\")\n",
        "print(sorted_feature_importance)\n",
        "\n",
        "import matplotlib.pyplot as plt\n",
        "import seaborn as sns\n",
        "\n",
        "plt.figure(figsize=(10, min(len(sorted_feature_importance) * 0.3, 20))) # Limit plot height\n",
        "sns.barplot(x=sorted_feature_importance.values, y=sorted_feature_importance.index)\n",
        "plt.title('Feature Importances from Random Forest')\n",
        "plt.xlabel('Importance')\n",
        "plt.ylabel('Features')\n",
        "plt.tight_layout()\n",
        "plt.show()\n"
      ],
      "metadata": {
        "colab": {
          "base_uri": "https://localhost:8080/",
          "height": 970
        },
        "id": "s4XIGKBIzspH",
        "outputId": "07bd9704-118f-4e4f-f9e2-c8e6532a6ae8"
      },
      "execution_count": null,
      "outputs": [
        {
          "output_type": "stream",
          "name": "stdout",
          "text": [
            "\n",
            "Number of synthetic samples created by SMOTE:\n",
            "  Class 1: No synthetic samples created (or undersampled, though SMOTE is oversampling)\n",
            "  Class 0: 551 synthetic samples created\n",
            "\n",
            "Best parameters found: {'bootstrap': False, 'criterion': 'entropy', 'max_depth': 8, 'min_samples_leaf': 2, 'min_samples_split': 7, 'n_estimators': 121}\n",
            "Best cross-validation accuracy: 0.8730\n",
            "\n",
            "Feature Importances (Sorted):\n",
            "num__First sem approval rate                   0.283701\n",
            "num__First sem approval rate                   0.250168\n",
            "num__Curricular units 1st sem (grade)          0.100955\n",
            "cat_onehot__Tuition fees up to date_1          0.067134\n",
            "cat_onehot__Tuition fees up to date_0          0.060490\n",
            "cat_onehot__Scholarship holder_1               0.033393\n",
            "num__Curricular units 1st sem (evaluations)    0.031482\n",
            "cat_onehot__Scholarship holder_0               0.025009\n",
            "num__Admission grade                           0.024478\n",
            "cat_onehot__course_category_0                  0.022446\n",
            "num__Previous qualification (grade)            0.020284\n",
            "cat_onehot__course_category_3                  0.018742\n",
            "num__GDP                                       0.014042\n",
            "num__Inflation rate                            0.013511\n",
            "num__Unemployment rate                         0.013201\n",
            "cat_onehot__course_category_4                  0.007133\n",
            "cat_onehot__course_category_2                  0.005949\n",
            "cat_onehot__course_category_5                  0.004396\n",
            "cat_onehot__course_category_1                  0.003486\n",
            "dtype: float64\n"
          ]
        },
        {
          "output_type": "display_data",
          "data": {
            "text/plain": [
              "<Figure size 1000x570 with 1 Axes>"
            ],
            "image/png": "[encoded data removed]"
          },
          "metadata": {}
        }
      ]
    },
    {
      "cell_type": "markdown",
      "source": [
        "sobre as variaveis mais importantes, alguns insights: as mais importantes envolveram desempenho academico, como resultado de notas, notas de qualificações anteriores, nota da admissão do curso etc. E, fatores financeiros, como se o pagamento do curso está em dia ou não. A segunda maior variavel foi a media das notas do segundo semestre de cada aluno. De acordo com o gráfico esse é um forte indicador, e para mim, seria um indicador forte de desistência futura ou graduação."
      ],
      "metadata": {
        "id": "mI33_NbDqSdK"
      }
    },
    {
      "cell_type": "markdown",
      "source": [
        "aqui o random forests faz suas previsões. usei metricas de precision, recall e f1-score para cada classe do target"
      ],
      "metadata": {
        "id": "8NrMNpfHpGye"
      }
    },
    {
      "cell_type": "code",
      "source": [
        "\n",
        "y_pred_test = best_rf_model.predict(X_test_transformed)\n",
        "\n",
        "# Evaluate the metrics on the original y_test\n",
        "accuracy_test = accuracy_score(y_test, y_pred_test)\n",
        "print(f\"\\nAccuracy of the best model on the Test Set: {accuracy_test}\")\n",
        "\n",
        "precision_test, recall_test, fscore_test, support_test = precision_recall_fscore_support(y_test, y_pred_test, average=None)\n",
        "\n",
        "for i, label in enumerate(label_encoder.classes_):\n",
        "    print(f\"Metrics for class '{label}' (Best Model - Test Set):\")\n",
        "    print(f\"  Precision: {precision_test[i]:.4f}\")\n",
        "    print(f\"  Recall: {recall_test[i]:.4f}\")\n",
        "    print(f\"  F1-score: {fscore_test[i]:.4f}\")\n",
        "    print(f\"  Support: {support_test[i]}\")\n",
        "\n",
        "y_pred_train_orig = best_rf_model.predict(X_train_transformed)\n",
        "accuracy_train_orig = accuracy_score(y_train, y_pred_train_orig)\n",
        "print(f\"Accuracy of the best model on the Original Training Set: {accuracy_train_orig}\")"
      ],
      "metadata": {
        "colab": {
          "base_uri": "https://localhost:8080/"
        },
        "id": "EflUQjwgxwkx",
        "outputId": "cad238d1-5b5a-4299-f34f-ee6f021d5b12"
      },
      "execution_count": null,
      "outputs": [
        {
          "output_type": "stream",
          "name": "stdout",
          "text": [
            "\n",
            "Accuracy of the best model on the Test Set: 0.8752293577981651\n",
            "Metrics for class 'Dropout' (Best Model - Test Set):\n",
            "  Precision: 0.8643\n",
            "  Recall: 0.8075\n",
            "  F1-score: 0.8350\n",
            "  Support: 213\n",
            "Metrics for class 'Graduate' (Best Model - Test Set):\n",
            "  Precision: 0.8815\n",
            "  Recall: 0.9187\n",
            "  F1-score: 0.8997\n",
            "  Support: 332\n",
            "Accuracy of the best model on the Original Training Set: 0.9138134592680047\n"
          ]
        }
      ]
    }
  ]
}