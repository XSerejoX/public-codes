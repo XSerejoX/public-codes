{
  "nbformat": 4,
  "nbformat_minor": 0,
  "metadata": {
    "colab": {
      "provenance": []
    },
    "kernelspec": {
      "name": "python3",
      "display_name": "Python 3"
    },
    "language_info": {
      "name": "python"
    }
  },
  "cells": [
    {
      "cell_type": "code",
      "source": [
        "import numpy as np\n",
        "import pandas as pd\n",
        "import matplotlib.pyplot as plt\n",
        "import seaborn as sns\n",
        "from sklearn.model_selection import train_test_split\n",
        "from sklearn.preprocessing import StandardScaler\n",
        "from sklearn.impute import SimpleImputer\n",
        "from imblearn.over_sampling import SMOTE\n",
        "from collections import Counter\n",
        "\n",
        "\n",
        "path = '/content/default_train_set.csv'\n",
        "\n",
        "df = pd.read_csv(path)\n",
        "\n",
        "df_test = pd.read_csv('/content/Default_Test_Set.csv')\n",
        "\n",
        "df_economic = pd.read_csv('/content/economic_indicators.csv')"
      ],
      "metadata": {
        "id": "GK5QK5Fwt12L"
      },
      "execution_count": 1,
      "outputs": []
    },
    {
      "cell_type": "code",
      "source": [
        "X = df.drop(columns=['target'])\n",
        "y = df['target']\n",
        "\n",
        "# Divisão\n",
        "X_train, X_test, y_train, y_test = train_test_split(X, y, test_size=0.2, random_state=42, stratify=y)\n"
      ],
      "metadata": {
        "id": "lw_0qRYOgZKY"
      },
      "execution_count": 2,
      "outputs": []
    },
    {
      "cell_type": "code",
      "source": [
        "X_train['disbursement_date'] = pd.to_datetime(X_train['disbursement_date'])\n",
        "X_train['due_date'] = pd.to_datetime(X_train['due_date'])\n",
        "X_test['disbursement_date'] = pd.to_datetime(X_test['disbursement_date'])\n",
        "X_test['due_date'] = pd.to_datetime(X_test['due_date'])\n",
        "\n",
        "df_test['disbursement_date'] = pd.to_datetime(df_test['disbursement_date'])\n",
        "df_test['due_date'] = pd.to_datetime(df_test['due_date'])\n",
        "\n",
        "df_test['disbursement_date'] = df_test['disbursement_date'].apply(lambda date: date.toordinal())\n",
        "df_test['due_date'] = df_test['due_date'].apply(lambda date: date.toordinal())\n",
        "\n",
        "X_train['disbursement_date'] = X_train['disbursement_date'].apply(lambda date: date.toordinal())\n",
        "X_train['due_date'] = X_train['due_date'].apply(lambda date: date.toordinal())\n",
        "X_test['disbursement_date'] = X_test['disbursement_date'].apply(lambda date: date.toordinal())\n",
        "X_test['due_date'] = X_test['due_date'].apply(lambda date: date.toordinal())"
      ],
      "metadata": {
        "id": "uxNjuaY2BWZo"
      },
      "execution_count": 3,
      "outputs": []
    },
    {
      "cell_type": "code",
      "source": [
        "def feature_engineering(data):\n",
        "    data['Repayment_Percentage'] = data['Total_Amount_to_Repay'] / data['Total_Amount']\n",
        "    data['Loan_Duration_to_Amount_Ratio'] = data['duration'] / data['Total_Amount']\n",
        "    data['Profit_Margin'] = data['Total_Amount_to_Repay'] - data['Total_Amount']\n",
        "    data['Adjusted_Profit_Margin'] = data['Profit_Margin'] / data['duration']\n",
        "    data['Lender_Contribution_Ratio'] = data['Amount_Funded_By_Lender'] / data['Total_Amount']\n",
        "\n",
        "    # Conversões de datas\n",
        "    data['disbursement_date'] = pd.to_datetime(data['disbursement_date'])\n",
        "    data['due_date'] = pd.to_datetime(data['due_date'])\n",
        "    data['Days_to_Due'] = (data['due_date'] - data['disbursement_date']).dt.days\n",
        "\n",
        "    return data\n",
        "\n",
        "# Aplica separadamente para os dois conjuntos\n",
        "X_train = feature_engineering(X_train)\n",
        "X_test = feature_engineering(X_test)\n",
        "\n",
        "df_test = feature_engineering(df_test)\n"
      ],
      "metadata": {
        "id": "RpckXQbi_Jja"
      },
      "execution_count": 4,
      "outputs": []
    },
    {
      "cell_type": "code",
      "source": [
        "X_train.drop(columns=['ID','country_id', 'customer_id','tbl_loan_id','lender_id',\n",
        "                          'New_versus_Repeat'], inplace=True)\n",
        "\n",
        "X_test.drop(columns=['ID','country_id', 'customer_id','tbl_loan_id','lender_id',\n",
        "                          'New_versus_Repeat'], inplace=True)"
      ],
      "metadata": {
        "id": "RMeh_lUGCEQP"
      },
      "execution_count": 5,
      "outputs": []
    },
    {
      "cell_type": "code",
      "source": [
        "df_test.drop(columns=['country_id', 'customer_id','tbl_loan_id','lender_id',\n",
        "                          'New_versus_Repeat'], inplace=True)"
      ],
      "metadata": {
        "id": "h97NTnoQLw0W"
      },
      "execution_count": 6,
      "outputs": []
    },
    {
      "cell_type": "code",
      "source": [
        "def categorize_lender_portion(portion):\n",
        "    if portion > 0.5:\n",
        "        return 5\n",
        "    elif portion == 0.5:\n",
        "        return 4\n",
        "    elif portion < 0.5 and portion >= 0.3:\n",
        "        return 3\n",
        "    elif portion < 0.3 and portion >= 0.2:\n",
        "        return 2\n",
        "    elif portion < 0.2 and portion > 0.0:\n",
        "        return 1\n",
        "    elif portion == 0.0:\n",
        "        return 0\n",
        "\n",
        "X_train['Lender_portion_category'] = X_train['Lender_portion_Funded'].apply(categorize_lender_portion)\n",
        "X_test['Lender_portion_category'] = X_test['Lender_portion_Funded'].apply(categorize_lender_portion)\n",
        "df_test['Lender_portion_category'] = df_test['Lender_portion_Funded'].apply(categorize_lender_portion)\n",
        "\n",
        "# 2. Categorizar Repayment_Percentage\n",
        "X_train['Repayment_Percentage'] = X_train['Total_Amount_to_Repay'] / X_train['Total_Amount']\n",
        "X_test['Repayment_Percentage'] = X_test['Total_Amount_to_Repay'] / X_test['Total_Amount']\n",
        "df_test['Repayment_Percentage'] = df_test['Total_Amount_to_Repay'] / df_test['Total_Amount']\n",
        "\n",
        "def categorize_repayment_percentage(percentage):\n",
        "    if percentage > 1.5:\n",
        "        return 3\n",
        "    elif percentage > 1.2:\n",
        "        return 2\n",
        "    elif percentage > 1.0:\n",
        "        return 1\n",
        "    else:\n",
        "        return 0\n",
        "\n",
        "X_train['Repayment_Category'] = X_train['Repayment_Percentage'].apply(categorize_repayment_percentage)\n",
        "X_test['Repayment_Category'] = X_test['Repayment_Percentage'].apply(categorize_repayment_percentage)\n",
        "df_test['Repayment_Category'] = df_test['Repayment_Percentage'].apply(categorize_repayment_percentage)\n",
        "\n",
        "X_train = pd.get_dummies(X_train, columns=['Lender_portion_category', 'Repayment_Category'], prefix=['LenderCat', 'RepayCat'])\n",
        "X_test = pd.get_dummies(X_test, columns=['Lender_portion_category', 'Repayment_Category'], prefix=['LenderCat', 'RepayCat'])\n",
        "df_test = pd.get_dummies(df_test, columns=['Lender_portion_category', 'Repayment_Category'], prefix=['LenderCat', 'RepayCat'])\n",
        "\n",
        "X_train, X_test = X_train.align(X_test, join='outer', axis=1, fill_value=0)"
      ],
      "metadata": {
        "id": "cuWSNySEAUK1"
      },
      "execution_count": 7,
      "outputs": []
    },
    {
      "cell_type": "code",
      "source": [
        "from sklearn.utils import resample\n",
        "\n",
        "# Função para subsamplear\n",
        "def balanced_subsample(X, y):\n",
        "\n",
        "    # Concatenar X_train e y_train para processar juntos\n",
        "    data = pd.concat([X, y], axis=1)\n",
        "\n",
        "    # Identificar as classes no y_train\n",
        "    min_class = y.value_counts().min()  # Pega o menor tamanho das classes\n",
        "\n",
        "    # Subsamplear cada classe para ter o mesmo tamanho\n",
        "    sampled = pd.concat([\n",
        "        resample(data[data[y.name] == label],  # Subsamplear para cada classe\n",
        "                 replace=False,               # Não queremos duplicar dados\n",
        "                 n_samples=min_class,         # Número de amostras para igualar as classes\n",
        "                 random_state=42)             # Controlar a aleatoriedade\n",
        "        for label in y.unique()\n",
        "    ])\n",
        "\n",
        "    X_balanced = sampled.drop(columns=y.name)\n",
        "    y_balanced = sampled[y.name]\n",
        "    return X_balanced, y_balanced\n",
        "\n",
        "X_train_balanced, y_train_balanced = balanced_subsample(X_train, y_train)\n",
        "\n",
        "# Verificar os tamanhos balanceados\n",
        "print(f\"Tamanhos após o subsampleamento:\\n{y_train_balanced.value_counts()}\")\n"
      ],
      "metadata": {
        "colab": {
          "base_uri": "https://localhost:8080/"
        },
        "id": "qPLlD7ulF8oD",
        "outputId": "9e48e766-2066-479b-8c73-475bee08700e"
      },
      "execution_count": 8,
      "outputs": [
        {
          "output_type": "stream",
          "name": "stdout",
          "text": [
            "Tamanhos após o subsampleamento:\n",
            "target\n",
            "0    1006\n",
            "1    1006\n",
            "Name: count, dtype: int64\n"
          ]
        }
      ]
    },
    {
      "cell_type": "code",
      "source": [
        "num_var = X_train.select_dtypes(include=np.number).columns\n",
        "num_var_test = X_test.select_dtypes(include=np.number).columns\n",
        "num_var_df_test = df_test.select_dtypes(include=np.number).columns"
      ],
      "metadata": {
        "id": "mgin81xBMg-c"
      },
      "execution_count": 9,
      "outputs": []
    },
    {
      "cell_type": "code",
      "source": [
        "from sklearn.preprocessing import StandardScaler\n",
        "\n",
        "scaler = StandardScaler()\n",
        "\n",
        "X_train_scaled = scaler.fit_transform(X_train[num_var])\n",
        "\n",
        "X_test_scaled = scaler.transform(X_test[num_var_test])\n",
        "\n",
        "df_test_scaled = scaler.transform(df_test[num_var_test])\n"
      ],
      "metadata": {
        "id": "t6dLfimc_UOC"
      },
      "execution_count": 10,
      "outputs": []
    },
    {
      "cell_type": "code",
      "source": [
        "from sklearn.model_selection import RandomizedSearchCV\n",
        "from sklearn.ensemble import RandomForestClassifier\n",
        "from sklearn.metrics import classification_report, f1_score\n",
        "import numpy as np\n",
        "\n",
        "# Definir os hiperparâmetros a testar\n",
        "param_dist = {\n",
        "    'n_estimators': np.arange(50, 300, 50),\n",
        "    'max_depth': [None, 10, 20, 30, 40, 50],\n",
        "    'min_samples_split': [2, 5, 10],\n",
        "    'min_samples_leaf': [1, 2, 4],\n",
        "    'max_features': ['auto', 'sqrt', 'log2'],\n",
        "    'bootstrap': [True, False]\n",
        "}\n",
        "\n",
        "# Inicializando o modelo de Random Forest\n",
        "rf = RandomForestClassifier(random_state=42)\n",
        "\n",
        "# Realizando o Random Search com 5-fold cross-validation\n",
        "random_search = RandomizedSearchCV(\n",
        "    rf, param_distributions=param_dist, n_iter=8, cv=5, verbose=1, random_state=42, n_jobs=-1\n",
        ")\n",
        "\n",
        "# Treinando o modelo\n",
        "random_search.fit(X_train_scaled, y_train)\n",
        "\n",
        "# Melhores parâmetros encontrados\n",
        "print(f\"Melhores parâmetros: {random_search.best_params_}\")\n",
        "\n",
        "# Avaliação no conjunto de teste\n",
        "y_pred = random_search.predict(X_test_scaled)\n",
        "\n",
        "# Mostrar o F1 Score\n",
        "print(f\"F1 Score no conjunto de teste: {f1_score(y_test, y_pred)}\")\n",
        "\n",
        "# Imprimir classificação detalhada\n",
        "print(classification_report(y_test, y_pred))\n"
      ],
      "metadata": {
        "colab": {
          "base_uri": "https://localhost:8080/"
        },
        "id": "hxGk10-iY6jh",
        "outputId": "c8c4623e-a67d-4d33-e325-29fd39538809"
      },
      "execution_count": 21,
      "outputs": [
        {
          "output_type": "stream",
          "name": "stdout",
          "text": [
            "Fitting 5 folds for each of 8 candidates, totalling 40 fits\n"
          ]
        },
        {
          "output_type": "stream",
          "name": "stderr",
          "text": [
            "/usr/local/lib/python3.10/dist-packages/sklearn/model_selection/_validation.py:540: FitFailedWarning: \n",
            "5 fits failed out of a total of 40.\n",
            "The score on these train-test partitions for these parameters will be set to nan.\n",
            "If these failures are not expected, you can try to debug them by setting error_score='raise'.\n",
            "\n",
            "Below are more details about the failures:\n",
            "--------------------------------------------------------------------------------\n",
            "5 fits failed with the following error:\n",
            "Traceback (most recent call last):\n",
            "  File \"/usr/local/lib/python3.10/dist-packages/sklearn/model_selection/_validation.py\", line 888, in _fit_and_score\n",
            "    estimator.fit(X_train, y_train, **fit_params)\n",
            "  File \"/usr/local/lib/python3.10/dist-packages/sklearn/base.py\", line 1466, in wrapper\n",
            "    estimator._validate_params()\n",
            "  File \"/usr/local/lib/python3.10/dist-packages/sklearn/base.py\", line 666, in _validate_params\n",
            "    validate_parameter_constraints(\n",
            "  File \"/usr/local/lib/python3.10/dist-packages/sklearn/utils/_param_validation.py\", line 95, in validate_parameter_constraints\n",
            "    raise InvalidParameterError(\n",
            "sklearn.utils._param_validation.InvalidParameterError: The 'max_features' parameter of RandomForestClassifier must be an int in the range [1, inf), a float in the range (0.0, 1.0], a str among {'log2', 'sqrt'} or None. Got 'auto' instead.\n",
            "\n",
            "  warnings.warn(some_fits_failed_message, FitFailedWarning)\n",
            "/usr/local/lib/python3.10/dist-packages/sklearn/model_selection/_search.py:1103: UserWarning: One or more of the test scores are non-finite: [0.99435573 0.99464704 0.99464705 0.99411903 0.99461064        nan\n",
            " 0.99391874 0.99393696]\n",
            "  warnings.warn(\n"
          ]
        },
        {
          "output_type": "stream",
          "name": "stdout",
          "text": [
            "Melhores parâmetros: {'n_estimators': 50, 'min_samples_split': 5, 'min_samples_leaf': 1, 'max_features': 'sqrt', 'max_depth': None, 'bootstrap': False}\n",
            "F1 Score no conjunto de teste: 0.8549019607843137\n",
            "              precision    recall  f1-score   support\n",
            "\n",
            "           0       1.00      1.00      1.00     13479\n",
            "           1       0.84      0.87      0.85       252\n",
            "\n",
            "    accuracy                           0.99     13731\n",
            "   macro avg       0.92      0.93      0.93     13731\n",
            "weighted avg       0.99      0.99      0.99     13731\n",
            "\n"
          ]
        }
      ]
    },
    {
      "cell_type": "code",
      "source": [
        "rf_best_params = {\n",
        "    'n_estimators': 50,\n",
        "    'min_samples_split': 5,\n",
        "    'min_samples_leaf': 1,\n",
        "    'max_features': 'sqrt',\n",
        "    'max_depth': None,\n",
        "    'bootstrap': False\n",
        "}\n",
        "\n",
        "# Inicializando o modelo Random Forest com os melhores parâmetros\n",
        "rf_best = RandomForestClassifier(**rf_best_params, random_state=42)\n",
        "\n",
        "# Treinando o modelo nos dados de treinamento\n",
        "rf_best.fit(X_train_scaled, y_train)\n",
        "\n",
        "# Fazendo predições no conjunto de teste\n",
        "y_pred_3 = rf_best.predict(X_test_scaled)\n",
        "\n",
        "# Avaliando o modelo com F1 Score\n",
        "f1 = f1_score(y_test, y_pred_3)\n",
        "print(f\"F1 Score no conjunto de teste: {f1}\")\n",
        "\n",
        "# Imprimir classificação detalhada\n",
        "print(classification_report(y_test, y_pred_3))"
      ],
      "metadata": {
        "colab": {
          "base_uri": "https://localhost:8080/"
        },
        "id": "St4QfZydaMTy",
        "outputId": "2f91a55b-2a95-41d2-b3c6-6683980705af"
      },
      "execution_count": 22,
      "outputs": [
        {
          "output_type": "stream",
          "name": "stdout",
          "text": [
            "F1 Score no conjunto de teste: 0.8549019607843137\n",
            "              precision    recall  f1-score   support\n",
            "\n",
            "           0       1.00      1.00      1.00     13479\n",
            "           1       0.84      0.87      0.85       252\n",
            "\n",
            "    accuracy                           0.99     13731\n",
            "   macro avg       0.92      0.93      0.93     13731\n",
            "weighted avg       0.99      0.99      0.99     13731\n",
            "\n"
          ]
        }
      ]
    },
    {
      "cell_type": "code",
      "source": [
        "from sklearn.metrics import classification_report, accuracy_score\n",
        "\n",
        "rf.fit(X_train_scaled, y_train)\n",
        "\n",
        "y_pred = rf.predict(X_test_scaled)\n",
        "\n",
        "# 3. Evaluate the model\n",
        "print(f\"Accuracy: {accuracy_score(y_test, y_pred)}\")\n",
        "print(classification_report(y_test, y_pred))\n",
        "\n",
        "\n",
        "\n"
      ],
      "metadata": {
        "colab": {
          "base_uri": "https://localhost:8080/"
        },
        "id": "Ak_Z9A-gJnoJ",
        "outputId": "c2006986-f83d-4d4e-8562-6a4c725d547f"
      },
      "execution_count": 12,
      "outputs": [
        {
          "output_type": "stream",
          "name": "stdout",
          "text": [
            "Accuracy: 0.9935911441264292\n",
            "              precision    recall  f1-score   support\n",
            "\n",
            "           0       1.00      1.00      1.00     13479\n",
            "           1       0.86      0.78      0.82       252\n",
            "\n",
            "    accuracy                           0.99     13731\n",
            "   macro avg       0.93      0.89      0.91     13731\n",
            "weighted avg       0.99      0.99      0.99     13731\n",
            "\n"
          ]
        }
      ]
    },
    {
      "cell_type": "code",
      "source": [
        "import tensorflow as tf\n",
        "from sklearn.model_selection import train_test_split\n",
        "from sklearn.preprocessing import StandardScaler\n",
        "from sklearn.metrics import classification_report\n",
        "\n",
        "model = tf.keras.Sequential()\n",
        "\n",
        "model.add(tf.keras.layers.InputLayer(input_shape=(X_train_scaled.shape[1],)))\n",
        "\n",
        "model.add(tf.keras.layers.Dense(64, activation='relu'))\n",
        "\n",
        "model.add(tf.keras.layers.Dense(1, activation='sigmoid'))\n",
        "\n",
        "model.compile(optimizer='adam', loss='binary_crossentropy', metrics=['accuracy'])\n",
        "\n",
        "history = model.fit(X_train_scaled, y_train, epochs=10, batch_size=32, validation_split=0.2)\n",
        "\n",
        "y_pred_2 = model.predict(X_test_scaled)\n",
        "y_pred_2 = (y_pred > 0.5).astype(int)\n",
        "\n",
        "print(classification_report(y_test, y_pred_2))\n",
        "\n",
        "# Você também pode plotar o histórico de aprendizado, caso queira ver como as métricas evoluem:\n",
        "import matplotlib.pyplot as plt\n",
        "plt.plot(history.history['accuracy'], label='accuracy')\n",
        "plt.plot(history.history['val_accuracy'], label='val_accuracy')\n",
        "plt.legend()\n",
        "plt.show()"
      ],
      "metadata": {
        "colab": {
          "base_uri": "https://localhost:8080/",
          "height": 1000
        },
        "id": "pmdOifx8VM5i",
        "outputId": "12c18661-27a7-4288-ed3d-931f1076311a"
      },
      "execution_count": 19,
      "outputs": [
        {
          "output_type": "stream",
          "name": "stderr",
          "text": [
            "/usr/local/lib/python3.10/dist-packages/keras/src/layers/core/input_layer.py:26: UserWarning: Argument `input_shape` is deprecated. Use `shape` instead.\n",
            "  warnings.warn(\n"
          ]
        },
        {
          "output_type": "stream",
          "name": "stdout",
          "text": [
            "Epoch 1/10\n",
            "\u001b[1m1374/1374\u001b[0m \u001b[32m━━━━━━━━━━━━━━━━━━━━\u001b[0m\u001b[37m\u001b[0m \u001b[1m5s\u001b[0m 2ms/step - accuracy: 0.9444 - loss: 0.2091 - val_accuracy: 0.9881 - val_loss: 0.0452\n",
            "Epoch 2/10\n",
            "\u001b[1m1374/1374\u001b[0m \u001b[32m━━━━━━━━━━━━━━━━━━━━\u001b[0m\u001b[37m\u001b[0m \u001b[1m5s\u001b[0m 2ms/step - accuracy: 0.9885 - loss: 0.0382 - val_accuracy: 0.9884 - val_loss: 0.0381\n",
            "Epoch 3/10\n",
            "\u001b[1m1374/1374\u001b[0m \u001b[32m━━━━━━━━━━━━━━━━━━━━\u001b[0m\u001b[37m\u001b[0m \u001b[1m3s\u001b[0m 2ms/step - accuracy: 0.9889 - loss: 0.0332 - val_accuracy: 0.9888 - val_loss: 0.0346\n",
            "Epoch 4/10\n",
            "\u001b[1m1374/1374\u001b[0m \u001b[32m━━━━━━━━━━━━━━━━━━━━\u001b[0m\u001b[37m\u001b[0m \u001b[1m5s\u001b[0m 2ms/step - accuracy: 0.9891 - loss: 0.0307 - val_accuracy: 0.9900 - val_loss: 0.0312\n",
            "Epoch 5/10\n",
            "\u001b[1m1374/1374\u001b[0m \u001b[32m━━━━━━━━━━━━━━━━━━━━\u001b[0m\u001b[37m\u001b[0m \u001b[1m3s\u001b[0m 2ms/step - accuracy: 0.9887 - loss: 0.0307 - val_accuracy: 0.9891 - val_loss: 0.0295\n",
            "Epoch 6/10\n",
            "\u001b[1m1374/1374\u001b[0m \u001b[32m━━━━━━━━━━━━━━━━━━━━\u001b[0m\u001b[37m\u001b[0m \u001b[1m6s\u001b[0m 2ms/step - accuracy: 0.9897 - loss: 0.0275 - val_accuracy: 0.9900 - val_loss: 0.0300\n",
            "Epoch 7/10\n",
            "\u001b[1m1374/1374\u001b[0m \u001b[32m━━━━━━━━━━━━━━━━━━━━\u001b[0m\u001b[37m\u001b[0m \u001b[1m4s\u001b[0m 3ms/step - accuracy: 0.9895 - loss: 0.0274 - val_accuracy: 0.9901 - val_loss: 0.0273\n",
            "Epoch 8/10\n",
            "\u001b[1m1374/1374\u001b[0m \u001b[32m━━━━━━━━━━━━━━━━━━━━\u001b[0m\u001b[37m\u001b[0m \u001b[1m3s\u001b[0m 2ms/step - accuracy: 0.9906 - loss: 0.0259 - val_accuracy: 0.9904 - val_loss: 0.0269\n",
            "Epoch 9/10\n",
            "\u001b[1m1374/1374\u001b[0m \u001b[32m━━━━━━━━━━━━━━━━━━━━\u001b[0m\u001b[37m\u001b[0m \u001b[1m3s\u001b[0m 2ms/step - accuracy: 0.9914 - loss: 0.0238 - val_accuracy: 0.9909 - val_loss: 0.0257\n",
            "Epoch 10/10\n",
            "\u001b[1m1374/1374\u001b[0m \u001b[32m━━━━━━━━━━━━━━━━━━━━\u001b[0m\u001b[37m\u001b[0m \u001b[1m6s\u001b[0m 3ms/step - accuracy: 0.9906 - loss: 0.0252 - val_accuracy: 0.9908 - val_loss: 0.0259\n",
            "\u001b[1m430/430\u001b[0m \u001b[32m━━━━━━━━━━━━━━━━━━━━\u001b[0m\u001b[37m\u001b[0m \u001b[1m1s\u001b[0m 1ms/step\n",
            "              precision    recall  f1-score   support\n",
            "\n",
            "           0       0.99      1.00      0.99     13479\n",
            "           1       0.76      0.48      0.59       252\n",
            "\n",
            "    accuracy                           0.99     13731\n",
            "   macro avg       0.88      0.74      0.79     13731\n",
            "weighted avg       0.99      0.99      0.99     13731\n",
            "\n"
          ]
        },
        {
          "output_type": "display_data",
          "data": {
            "text/plain": [
              "<Figure size 640x480 with 1 Axes>"
            ],
            "image/png": "[encoded data removed]"
          },
          "metadata": {}
        }
      ]
    },
    {
      "cell_type": "code",
      "source": [
        "X_test_comp = df_test_scaled\n",
        "predictions = rf_best.predict(X_test_comp)"
      ],
      "metadata": {
        "id": "8TccbyJ0vvoY"
      },
      "execution_count": 23,
      "outputs": []
    },
    {
      "cell_type": "code",
      "source": [
        "submission_1 = pd.DataFrame({\n",
        "    'ID': df_test['ID'],\n",
        "    'target': predictions\n",
        "})\n",
        "\n",
        "submission_1.to_csv('submission_1.csv', index=False)"
      ],
      "metadata": {
        "id": "Sqyj_FeMUwYx"
      },
      "execution_count": 27,
      "outputs": []
    },
    {
      "cell_type": "code",
      "source": [
        "correlation_matrix = df[num_var].corr()\n",
        "\n",
        "# Create a heatmap for visualization\n",
        "plt.figure(figsize=(12, 10))  # Adjust the figure size as needed\n",
        "sns.heatmap(correlation_matrix, annot=True, cmap='coolwarm', fmt=\".2f\")\n",
        "plt.title(\"Correlation Matrix of df_balanced\")\n",
        "plt.show()"
      ],
      "metadata": {
        "colab": {
          "base_uri": "https://localhost:8080/",
          "height": 211
        },
        "id": "zD21j5Rtiy_q",
        "outputId": "ea74cad0-4c00-4440-ba44-04239f6fb6a0"
      },
      "execution_count": 15,
      "outputs": [
        {
          "output_type": "error",
          "ename": "NameError",
          "evalue": "name 'df_balanced' is not defined",
          "traceback": [
            "\u001b[0;31m---------------------------------------------------------------------------\u001b[0m",
            "\u001b[0;31mNameError\u001b[0m                                 Traceback (most recent call last)",
            "\u001b[0;32m<ipython-input-15-89cb68f8855b>\u001b[0m in \u001b[0;36m<cell line: 1>\u001b[0;34m()\u001b[0m\n\u001b[0;32m----> 1\u001b[0;31m \u001b[0mcorrelation_matrix\u001b[0m \u001b[0;34m=\u001b[0m \u001b[0mdf_balanced\u001b[0m\u001b[0;34m[\u001b[0m\u001b[0mnum_var\u001b[0m\u001b[0;34m]\u001b[0m\u001b[0;34m.\u001b[0m\u001b[0mcorr\u001b[0m\u001b[0;34m(\u001b[0m\u001b[0;34m)\u001b[0m\u001b[0;34m\u001b[0m\u001b[0;34m\u001b[0m\u001b[0m\n\u001b[0m\u001b[1;32m      2\u001b[0m \u001b[0;34m\u001b[0m\u001b[0m\n\u001b[1;32m      3\u001b[0m \u001b[0;31m# Create a heatmap for visualization\u001b[0m\u001b[0;34m\u001b[0m\u001b[0;34m\u001b[0m\u001b[0m\n\u001b[1;32m      4\u001b[0m \u001b[0mplt\u001b[0m\u001b[0;34m.\u001b[0m\u001b[0mfigure\u001b[0m\u001b[0;34m(\u001b[0m\u001b[0mfigsize\u001b[0m\u001b[0;34m=\u001b[0m\u001b[0;34m(\u001b[0m\u001b[0;36m12\u001b[0m\u001b[0;34m,\u001b[0m \u001b[0;36m10\u001b[0m\u001b[0;34m)\u001b[0m\u001b[0;34m)\u001b[0m  \u001b[0;31m# Adjust the figure size as needed\u001b[0m\u001b[0;34m\u001b[0m\u001b[0;34m\u001b[0m\u001b[0m\n\u001b[1;32m      5\u001b[0m \u001b[0msns\u001b[0m\u001b[0;34m.\u001b[0m\u001b[0mheatmap\u001b[0m\u001b[0;34m(\u001b[0m\u001b[0mcorrelation_matrix\u001b[0m\u001b[0;34m,\u001b[0m \u001b[0mannot\u001b[0m\u001b[0;34m=\u001b[0m\u001b[0;32mTrue\u001b[0m\u001b[0;34m,\u001b[0m \u001b[0mcmap\u001b[0m\u001b[0;34m=\u001b[0m\u001b[0;34m'coolwarm'\u001b[0m\u001b[0;34m,\u001b[0m \u001b[0mfmt\u001b[0m\u001b[0;34m=\u001b[0m\u001b[0;34m\".2f\"\u001b[0m\u001b[0;34m)\u001b[0m\u001b[0;34m\u001b[0m\u001b[0;34m\u001b[0m\u001b[0m\n",
            "\u001b[0;31mNameError\u001b[0m: name 'df_balanced' is not defined"
          ]
        }
      ]
    },
    {
      "cell_type": "code",
      "source": [
        "# Definição das variáveis contínuas e categóricas\n",
        "var_continuous = ['Total_Amount', 'Total_Amount_to_Repay', 'Amount_Funded_By_Lender',\n",
        "                  'Lender_portion_Funded', 'duration', 'Lender_portion_to_be_repaid',\n",
        "                                    'Repayment_Percentage', 'Loan_Duration_to_Amount_Ratio',\n",
        "'Profit_Margin', 'Days_to_Due', 'Lender_Contribution_Ratio',\n",
        "                  'Adjusted_Profit_Margin']\n",
        "\n",
        "cat_var = ['Repayment_Category', 'Lender_portion_category', 'loan_type']\n",
        "\n",
        "var_log = ['Total_Amount', 'Total_Amount_to_Repay', 'Amount_Funded_By_Lender',\n",
        "           'Lender_portion_to_be_repaid']\n",
        "\n",
        "var_final_continuous = var_log + var_continuous\n"
      ],
      "metadata": {
        "id": "pHzwl3SiJJ9Q"
      },
      "execution_count": null,
      "outputs": []
    }
  ]
}