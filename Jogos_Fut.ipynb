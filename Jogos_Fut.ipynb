{
  "nbformat": 4,
  "nbformat_minor": 0,
  "metadata": {
    "colab": {
      "provenance": [],
      "include_colab_link": true
    },
    "kernelspec": {
      "name": "python3",
      "display_name": "Python 3"
    },
    "language_info": {
      "name": "python"
    }
  },
  "cells": [
    {
      "cell_type": "markdown",
      "metadata": {
        "id": "view-in-github",
        "colab_type": "text"
      },
      "source": [
        "<a href=\"https://colab.research.google.com/github/XSerejoX/public-codes/blob/main/Jogos_Fut.ipynb\" target=\"_parent\"><img src=\"https://colab.research.google.com/assets/colab-badge.svg\" alt=\"Open In Colab\"/></a>"
      ]
    },
    {
      "cell_type": "markdown",
      "source": [
        "## Overview\n",
        "Futebol. O esporte mais assistido e jogado no mundo.\n",
        "\n",
        "Um dos grandes desafios da Ciência de dados é detectar padrões em múltiplas áreas de conhecimento, neste caso vou inferir com dados esportivos de futebol britânico, a famosa e prestigiada Premier League.\n",
        "\n",
        "sem conhecimento profundo em futebol, vou criar um modelo que prevê vitorias, empates ou derrotas de resultados de jogos oficiais da Premier League, apenas utilizando técnicas de aprendizado de máquina."
      ],
      "metadata": {
        "id": "m3ai-Mb8fvMZ"
      }
    },
    {
      "cell_type": "markdown",
      "source": [
        "Lendo e iniciando os arquivos"
      ],
      "metadata": {
        "id": "QvdDaVftIIVw"
      }
    },
    {
      "cell_type": "code",
      "execution_count": null,
      "metadata": {
        "id": "irQKVeXyQ68E"
      },
      "outputs": [],
      "source": [
        "import numpy as np\n",
        "import pandas as pd\n",
        "import matplotlib.pyplot as plt\n",
        "import seaborn as sns\n",
        "path = '/content/train_futebol.csv'\n",
        "path2 = '/content/test_futebol.csv'\n",
        "test_futebol = pd.read_csv(path2)\n",
        "df = pd.read_csv(path)\n",
        "\n"
      ]
    },
    {
      "cell_type": "markdown",
      "source": [
        "Primeiramente, usei dois tipos de modelos: Redes neurais e gradient boosting. usei primeiro o gradient boosting pois ele não é um modelo tão complexo como redes neurais e nem tão simples como arvores de decisão. ele é muito usado para classificação e é versátil.\n",
        "\n",
        "Para questões de iteração, decidi usar um modelo mais complexo, redes neurais, pois o primeiro desempenho estava ruim. redes neurais acabou sendo sensivel demais e muito complexo. portanto, decidi voltar para o bossting para dar tweaks e melhorar seu desempenho. Depois de aplicar mais engenharia de features no modelo ele pode performar melhor e tive mais segurança para continuar com o gradient boosting."
      ],
      "metadata": {
        "id": "QymG6hI3PVDT"
      }
    },
    {
      "cell_type": "markdown",
      "source": [
        "Feature Engineering"
      ],
      "metadata": {
        "id": "L9pMTMIlQCHW"
      }
    },
    {
      "cell_type": "code",
      "source": [
        "from sklearn.model_selection import RandomizedSearchCV\n",
        "from sklearn.pipeline import Pipeline\n",
        "from sklearn.compose import ColumnTransformer\n",
        "from sklearn.preprocessing import StandardScaler, OneHotEncoder\n",
        "from sklearn.impute import SimpleImputer\n",
        "from scipy.stats import randint\n",
        "from datetime import datetime\n",
        "\n",
        "#separando mintuos de jogo\n",
        "\n",
        "df['PrimeiroTempo'] = ((df['minuto']<=45) & (df['minuto']>0)).astype(int)\n",
        "df['SegundoTempo'] = ((df['minuto']>45) & (df['minuto']<=90)).astype(int)\n",
        "df['Final_Critico'] = ((df['minuto']> 80) & (df['minuto']<=101)).astype(int)\n",
        "\n",
        "\n",
        "\n",
        "test_futebol['PrimeiroTempo'] = ((test_futebol['minuto']<=45) & (test_futebol['minuto']>0)).astype(int)\n",
        "test_futebol['SegundoTempo'] = ((test_futebol['minuto']>45) & (test_futebol['minuto']<=90)).astype(int)\n",
        "test_futebol['Final_Critico'] = ((test_futebol['minuto']>80) & (test_futebol['minuto']<=101)).astype(int)\n",
        "\n",
        "\n",
        "#convertendo data em date time\n",
        "\n",
        "df['Date'] = pd.to_datetime(df['Date'], format='%d.%m.%Y')\n",
        "test_futebol['Date'] = pd.to_datetime(test_futebol['Date'], format='%d.%m.%Y')\n",
        "\n",
        "# Separando a data\n",
        "\n",
        "df['DayOfWeek'] = df['Date'].dt.dayofweek\n",
        "df['Month'] = df['Date'].dt.month\n",
        "df['Year'] = df['Date'].dt.year\n",
        "\n",
        "test_futebol['DayOfWeek'] = test_futebol['Date'].dt.dayofweek\n",
        "test_futebol['Month'] = test_futebol['Date'].dt.month\n",
        "test_futebol['Year'] = test_futebol['Date'].dt.year\n",
        "\n",
        "#Calculando a diferença de tempo entre eventos dentro de cada jogo\n",
        "df['time_diff'] = df.groupby('Date')['minuto'].diff().fillna(0).astype(int)\n",
        "test_futebol['time_diff'] = test_futebol.groupby('Date')['minuto'].diff().fillna(0).astype(int)\n",
        "\n",
        "def hora_para_inteiro(hora_str):\n",
        "    hora, minuto = map(int, hora_str.split(':'))\n",
        "    return hora  # Retorna apenas a parte da hora como inteiro\n",
        "\n",
        "# Aplicando a função à coluna 'hora'\n",
        "df['hora'] = df['Time'].apply(hora_para_inteiro)\n",
        "test_futebol['hora'] = test_futebol['Time'].apply(hora_para_inteiro)\n",
        "\n",
        "\n",
        "\n",
        "\n",
        "\n"
      ],
      "metadata": {
        "id": "Yz6fotdaTgv3"
      },
      "execution_count": null,
      "outputs": []
    },
    {
      "cell_type": "markdown",
      "source": [
        "separação de variáveis"
      ],
      "metadata": {
        "id": "SZ4X_1dnW7Gx"
      }
    },
    {
      "cell_type": "code",
      "source": [
        "# Definição das variáveis numéricas e categóricas\n",
        "\n",
        "num_variables = ['Round', 'time_diff', 'Yellow_Away', 'Yellow_Home', 'Goal_Away', 'Goal_Home',\n",
        "                 'Red_Card_Away', 'Red_Card_Home', 'Own_Home', 'Own_Away', 'Penalty_Missed_Home',\n",
        "                 'Penalty_Missed_Away', 'Var_Home', 'Var_Away', 'minuto']\n",
        "\n",
        "cat_variables = ['Home', 'Away', 'evento', 'DayOfWeek', 'Month','Year', 'PrimeiroTempo',\n",
        "                 'SegundoTempo', 'Final_Critico']"
      ],
      "metadata": {
        "id": "Mu8_gIb-MwR8"
      },
      "execution_count": null,
      "outputs": []
    },
    {
      "cell_type": "markdown",
      "source": [
        "1. Definindo X e y,\n",
        "\n",
        "2. splitando o data set,\n",
        "\n",
        "3. criando o preprocessador,\n",
        "\n",
        "4. utilizando o gradient boost e aplicando o pipeline nele,\n",
        "\n",
        "5. usando randomized search para melhores parametros,\n",
        "\n",
        "6. e calculando resultados e avaliações com métricas\n"
      ],
      "metadata": {
        "id": "sTa4IWkWTa3C"
      }
    },
    {
      "cell_type": "markdown",
      "source": [
        "Trecho de código usado por mim"
      ],
      "metadata": {
        "id": "mXE6X8AsoJ0R"
      }
    },
    {
      "cell_type": "code",
      "source": [
        "import pandas as pd\n",
        "from sklearn.ensemble import GradientBoostingClassifier\n",
        "from sklearn.model_selection import train_test_split, RandomizedSearchCV\n",
        "from sklearn.pipeline import Pipeline\n",
        "from sklearn.compose import ColumnTransformer\n",
        "from sklearn.preprocessing import StandardScaler, OneHotEncoder\n",
        "from sklearn.metrics import accuracy_score, classification_report\n",
        "from sklearn.utils.class_weight import compute_sample_weight\n",
        "from sklearn.impute import SimpleImputer\n",
        "import joblib\n",
        "import numpy as np\n",
        "\n",
        "# Carregando o modelo treinado\n",
        "pipeline = joblib.load('modelo_treinado.pkl')\n",
        "\n",
        "# Criando o preprocessor\n",
        "preprocessor = ColumnTransformer(\n",
        "    transformers=[\n",
        "        ('num', Pipeline(steps=[\n",
        "            ('imputer', SimpleImputer(strategy='mean')),\n",
        "            ('scaler', StandardScaler())\n",
        "        ]), num_variables),\n",
        "        ('cat', OneHotEncoder(handle_unknown='ignore'), cat_variables)\n",
        "    ])\n",
        "\n",
        "# Criando o DataFrame X\n",
        "total_variables = num_variables + cat_variables\n",
        "X = df[total_variables]\n",
        "y = df['WIN']\n",
        "\n",
        "# Dividindo em treino e teste\n",
        "X_train, X_test, y_train, y_test = train_test_split(X, y, test_size=0.3, random_state=42)\n",
        "\n",
        "# Cálculo de pesos de amostras balanceados\n",
        "sample_weights = compute_sample_weight(class_weight='balanced', y=y_train)\n",
        "\n",
        "# Definindo o espaço de busca para os hiperparâmetros\n",
        "param_dist = {\n",
        "    'classifier__n_estimators': [100, 150],\n",
        "    'classifier__max_depth': [3, 4],\n",
        "    'classifier__min_samples_split': [2, 5],\n",
        "    'classifier__min_samples_leaf': [1, 2],\n",
        "    'classifier__learning_rate': [0.05, 0.1],\n",
        "    'classifier__subsample': [0.7, 0.8]\n",
        "\n",
        "}\n",
        "\n",
        "# Criando o classificador\n",
        "classifier = GradientBoostingClassifier(random_state=42)\n",
        "\n",
        "# Pipeline com o classificador\n",
        "pipeline = Pipeline(steps=[\n",
        "    ('preprocessor', preprocessor),\n",
        "    ('classifier', classifier)\n",
        "])\n"
      ],
      "metadata": {
        "id": "FbIFZTbIDZrV",
        "collapsed": true
      },
      "execution_count": null,
      "outputs": []
    },
    {
      "cell_type": "markdown",
      "source": [
        "Adicionalmente aplico um Random Search. o random search me deu os melhores parametros dentro de um escopo, e eu decidi usar esses parametros para assim treinar o modelo."
      ],
      "metadata": {
        "id": "YSDlWXK7QjQC"
      }
    },
    {
      "cell_type": "code",
      "source": [
        "random_search = RandomizedSearchCV(\n",
        "    pipeline,\n",
        "    param_distributions=param_dist,\n",
        "    n_iter=19,  # Número de combinações a serem testadas\n",
        "    cv=3,  # Validação cruzada\n",
        "    scoring='accuracy',  # Métrica de avaliação\n",
        "    n_jobs=-1,  # Usar todos os núcleos disponíveis\n",
        "    random_state=42\n",
        ")\n",
        "\n",
        "# Treinando o modelo usando RandomizedSearchCV\n",
        "random_search.fit(X_train, y_train, classifier__sample_weight=sample_weights)\n",
        "\n",
        "# Melhor modelo encontrado\n",
        "best_model = random_search.best_estimator_\n",
        "\n",
        "# Fazendo previsões no conjunto de teste\n",
        "y_pred = best_model.predict(X_test)\n",
        "\n",
        "# Avaliando o modelo\n",
        "print(f\"Acurácia: {accuracy_score(y_test, y_pred)}\")\n",
        "print(classification_report(y_test, y_pred))\n",
        "\n",
        "# Avaliando o desempenho no conjunto de treinamento\n",
        "y_train_pred = best_model.predict(X_train)\n",
        "training_accuracy = accuracy_score(y_train, y_train_pred)\n",
        "print(f\"Acurácia do treinamento: {training_accuracy:.2f}\")\n",
        "\n",
        "# Mostrando os melhores parâmetros encontrados\n",
        "print(\"Melhores parâmetros encontrados:\")\n",
        "print(random_search.best_params_)\n",
        "\n",
        "y_train_pred = best_model.predict(X_train)\n",
        "training_accuracy = accuracy_score(y_train, y_train_pred)\n",
        "print(f\"Acurácia do treinamento: {training_accuracy:.2f}\")"
      ],
      "metadata": {
        "colab": {
          "base_uri": "https://localhost:8080/"
        },
        "id": "XU-VmNteBKxA",
        "outputId": "378e273b-213d-42c8-e317-eb907447ef77"
      },
      "execution_count": null,
      "outputs": [
        {
          "output_type": "stream",
          "name": "stdout",
          "text": [
            "Acurácia: 0.756178196545169\n",
            "              precision    recall  f1-score   support\n",
            "\n",
            "        Away       0.79      0.79      0.79      3643\n",
            "        Draw       0.55      0.66      0.60      2788\n",
            "        Home       0.87      0.78      0.82      5668\n",
            "\n",
            "    accuracy                           0.76     12099\n",
            "   macro avg       0.74      0.74      0.74     12099\n",
            "weighted avg       0.77      0.76      0.76     12099\n",
            "\n",
            "Acurácia do treinamento: 0.78\n",
            "Melhores parâmetros encontrados:\n",
            "{'classifier__subsample': 0.7, 'classifier__n_estimators': 150, 'classifier__min_samples_split': 2, 'classifier__min_samples_leaf': 2, 'classifier__max_depth': 4, 'classifier__learning_rate': 0.1}\n",
            "Acurácia do treinamento: 0.78\n"
          ]
        }
      ]
    },
    {
      "cell_type": "markdown",
      "source": [
        "Salvar o modelo"
      ],
      "metadata": {
        "id": "8zJDyfVlQ4O4"
      }
    },
    {
      "cell_type": "code",
      "source": [
        "import joblib\n",
        "\n",
        "# Salvar o modelo\n",
        "joblib.dump(best_model, 'best_model.pkl')"
      ],
      "metadata": {
        "colab": {
          "base_uri": "https://localhost:8080/"
        },
        "id": "RTQOl2-NN0LS",
        "outputId": "a2d5a760-cc15-4e0c-b968-845ca152ae4f"
      },
      "execution_count": null,
      "outputs": [
        {
          "output_type": "execute_result",
          "data": {
            "text/plain": [
              "['best_model.pkl']"
            ]
          },
          "metadata": {},
          "execution_count": 28
        }
      ]
    },
    {
      "cell_type": "code",
      "source": [
        "total_variables = num_variables + cat_variables\n",
        "\n",
        "X_test_final = test_futebol[total_variables]\n",
        "pipeline2 = joblib.load('best_model.pkl')\n",
        "# Preprocessar os dados de teste da mesma forma que os dados de treino\n",
        "X_test_final = test_futebol[total_variables]\n",
        "\n",
        "predictions = pipeline2.predict(X_test_final)"
      ],
      "metadata": {
        "id": "UbO9c6EQN87Q"
      },
      "execution_count": null,
      "outputs": []
    },
    {
      "cell_type": "markdown",
      "source": [
        "matriz de confusão:\n",
        "\n",
        "o modelo está indo razoavelmente bem em saber a diferença correta das labels AWAY e HOME, e está tendo mais dificuldade em identificar DRAWS, confundindo ela com outras labels.\n"
      ],
      "metadata": {
        "id": "OcmO01xjncjc"
      }
    },
    {
      "cell_type": "code",
      "source": [
        "from sklearn.metrics import confusion_matrix\n",
        "conf_matrix = confusion_matrix(y_test, y_pred)\n",
        "print(conf_matrix)"
      ],
      "metadata": {
        "id": "FUhL_ZS6-Op_",
        "colab": {
          "base_uri": "https://localhost:8080/"
        },
        "outputId": "d1d7d923-73d6-4c31-e33e-e111e73c06e8"
      },
      "execution_count": null,
      "outputs": [
        {
          "output_type": "stream",
          "name": "stdout",
          "text": [
            "[[2882  570  191]\n",
            " [ 465 1838  485]\n",
            " [ 324  915 4429]]\n"
          ]
        }
      ]
    },
    {
      "cell_type": "markdown",
      "source": [
        "Curva ROC\n",
        "\n",
        "a curva roc está tendo resultados aproximados de verdadeiros positivos, porém tendo a linha do DRAW um pouco mais afastada das demais, demonstrando um erro maior.\n"
      ],
      "metadata": {
        "id": "5Lwvi0yiJLnZ"
      }
    },
    {
      "cell_type": "code",
      "source": [
        "from sklearn.metrics import roc_curve, auc\n",
        "from sklearn.preprocessing import label_binarize\n",
        "import matplotlib.pyplot as plt\n",
        "\n",
        "classes = np.unique(y_test)\n",
        "n_classes = len(classes)\n",
        "\n",
        "# Binarizar as classes para ROC\n",
        "y_test_bin = label_binarize(y_test, classes=classes)\n",
        "y_pred_proba = best_model.predict_proba(X_test)  # Obter probabilidades de previsão\n",
        "\n",
        "# Inicializar variáveis para armazenar a AUC e a curva ROC\n",
        "fpr = dict()\n",
        "tpr = dict()\n",
        "roc_auc = dict()\n",
        "\n",
        "# Calcular a curva ROC para cada classe\n",
        "for i in range(n_classes):\n",
        "    fpr[i], tpr[i], _ = roc_curve(y_test_bin[:, i], y_pred_proba[:, i])\n",
        "    roc_auc[i] = auc(fpr[i], tpr[i])\n",
        "\n",
        "# Plotar as curvas ROC\n",
        "plt.figure(figsize=(10, 6))\n",
        "\n",
        "# Plotar cada curva ROC\n",
        "for i in range(n_classes):\n",
        "    plt.plot(fpr[i], tpr[i], lw=2, label=f'Classe {classes[i]} (AUC = {roc_auc[i]:.2f})')\n",
        "\n",
        "# Plotar linha de referência\n",
        "plt.plot([0, 1], [0, 1], color='red', lw=2, linestyle='--')\n",
        "\n",
        "# Configurações do gráfico\n",
        "plt.xlim([0.0, 1.0])\n",
        "plt.ylim([0.0, 1.05])\n",
        "plt.xlabel('Taxa de Falsos Positivos')\n",
        "plt.ylabel('Taxa de Verdadeiros Positivos')\n",
        "plt.title('Curvas ROC para Classificação Multiclasse')\n",
        "plt.legend(loc='lower right')\n",
        "plt.grid()\n",
        "plt.show()"
      ],
      "metadata": {
        "id": "4ZkdI5fpinpv",
        "colab": {
          "base_uri": "https://localhost:8080/",
          "height": 501
        },
        "outputId": "69fc25b7-0320-4929-ff08-8f214bed1a80"
      },
      "execution_count": null,
      "outputs": [
        {
          "output_type": "display_data",
          "data": {
            "text/plain": [
              "<Figure size 1000x600 with 1 Axes>"
            ],
            "image/png": "[encoded data removed]"
          },
          "metadata": {}
        }
      ]
    },
    {
      "cell_type": "markdown",
      "source": [
        "Submetendo e treinando com dados novos de uma competição universitária do kaggle"
      ],
      "metadata": {
        "id": "141-4s-ZRxXW"
      }
    },
    {
      "cell_type": "code",
      "source": [
        "import pandas as pd\n",
        "from sklearn.preprocessing import StandardScaler, OneHotEncoder\n",
        "from sklearn.compose import ColumnTransformer\n",
        "from sklearn.pipeline import Pipeline\n",
        "import joblib\n",
        "# Definindo variáveis numéricas e categóricas para teste\n",
        "num_variables_test = [\n",
        "    'Round', 'time_diff', 'Yellow_Away', 'Yellow_Home',\n",
        "    'Goal_Away', 'Goal_Home', 'Red_Card_Away', 'Red_Card_Home',\n",
        "    'Own_Home', 'Own_Away', 'Penalty_Missed_Home',\n",
        "    'Penalty_Missed_Away', 'Var_Home', 'Var_Away', 'minuto']\n",
        "\n",
        "\n",
        "cat_variables_test= ['Home', 'Away', 'evento', 'DayOfWeek', 'Month','Year', 'PrimeiroTempo',\n",
        "                 'SegundoTempo', 'Final_Critico']\n",
        "\n",
        "all_variables_test = num_variables_test + cat_variables_test\n",
        "\n",
        "X_comp = test_futebol[all_variables_test]\n",
        "\n",
        "# Carregando o modelo treinado\n",
        "pipeline2 = joblib.load('best_model.pkl')\n",
        "\n",
        "# Fazendo previsões nos dados de competição\n",
        "y_pred_comp = pipeline2.predict(X_comp)\n",
        "\n",
        "# Criar o DataFrame para submissão\n",
        "submission = pd.DataFrame({\n",
        "    'index': test_futebol.index,\n",
        "    'WIN': y_pred_comp\n",
        "})\n",
        "\n",
        "# Salvar o arquivo .csv\n",
        "submission.to_csv('submission_bm.csv', index=False)\n",
        "\n",
        "print(\"Arquivo de submissão criado com sucesso!\")\n",
        "\n"
      ],
      "metadata": {
        "id": "1vga21K82gOa",
        "colab": {
          "base_uri": "https://localhost:8080/"
        },
        "outputId": "804dea34-4871-472b-eecb-aef9ee89e466"
      },
      "execution_count": null,
      "outputs": [
        {
          "output_type": "stream",
          "name": "stdout",
          "text": [
            "Arquivo de submissão criado com sucesso!\n"
          ]
        }
      ]
    },
    {
      "cell_type": "markdown",
      "source": [
        "## Conclusão\n",
        "\n",
        "O modelo teve um desenpenho bem aceitavel para classificações, e o desafio maior foi fazer com que ele previsse a label DRAW, que naturalmente é mais complexa. Adicionei mais features para captar mais nuancias nessa variável. O processo de pre-processamento foi menos desafiador, e mais desafiador, foi fazer com que o modelo se adequasse de maneira equivalente para todas as labels em relação a dados completamente novos. A acurancia teve seu devido valor, de 72 por cento, para  esses dados completamente novos, entretanto."
      ],
      "metadata": {
        "id": "8lODLS-jUAnz"
      }
    }
  ]
}