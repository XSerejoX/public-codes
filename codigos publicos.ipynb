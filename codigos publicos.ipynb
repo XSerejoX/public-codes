{
  "nbformat": 4,
  "nbformat_minor": 0,
  "metadata": {
    "colab": {
      "provenance": []
    },
    "kernelspec": {
      "name": "python3",
      "display_name": "Python 3"
    },
    "language_info": {
      "name": "python"
    }
  },
  "cells": [
    {
      "cell_type": "markdown",
      "source": [],
      "metadata": {
        "id": "02o_7X4f0TVs"
      }
    },
    {
      "cell_type": "markdown",
      "source": [
        "**Códigos**"
      ],
      "metadata": {
        "id": "WRW4Y0k_0Xxu"
      }
    },
    {
      "cell_type": "markdown",
      "source": [
        "# função que recebe uma lista de números e retorna a soma dos números pares.\n",
        "\n",
        "Exemplo: [1, 2, 3, 4, 5]\n",
        "\n",
        "Saída: 'A soma dos números pares é 6.'"
      ],
      "metadata": {
        "id": "KcOT2EJizhNq"
      }
    },
    {
      "cell_type": "code",
      "source": [
        "def numPar():\n",
        "  pares = []\n",
        "  lista = [1, 2, 3, 8, 5]\n",
        "  for num in lista:\n",
        "    if num % 2 == 0:\n",
        "      pares.append(num)\n",
        "    soma_pares = sum(pares)\n",
        "  return soma_pares\n",
        "print(f\"A soma dos números pares é {numPar()}\")"
      ],
      "metadata": {
        "colab": {
          "base_uri": "https://localhost:8080/"
        },
        "id": "TfhjcfoQz_j0",
        "outputId": "eee21afa-dd5b-4e90-d95b-6812cc32ae5d"
      },
      "execution_count": 4,
      "outputs": [
        {
          "output_type": "stream",
          "name": "stdout",
          "text": [
            "A soma dos números pares é 10\n"
          ]
        }
      ]
    },
    {
      "cell_type": "markdown",
      "source": [
        "# função que recebe uma lista de strings:\n",
        "\n",
        " A lista contem apenas strings.\n",
        "Se todos os elementos forem strings, a função deve então retornar uma nova lista contendo apenas as strings que têm 5 caracteres ou menos.\n",
        "Exemplo 1: ['maçã', 'banana', 'kiwi', 'abacate', 'manga']\n",
        "\n",
        "Saída: 'Strings com 5 ou menos caracteres: ['maçã', 'kiwi', 'manga']'\n",
        "\n",
        "Exemplo 2: ['maçã', 'banana', 'kiwi', 'abacate', 'manga', True]\n",
        "\n",
        "Saída 2: 'A lista deve conter apenas strings.'"
      ],
      "metadata": {
        "id": "iTFdOsya1hbR"
      }
    },
    {
      "cell_type": "code",
      "source": [
        "def soString(listas):\n",
        "    novaLista = []\n",
        "    for elementos in listas:\n",
        "     if not isinstance(elementos,str):\n",
        "      raise ValueError(\"A lista deve conter apenas strings.\")\n",
        "     if len(elementos) <= 5:\n",
        "       novaLista.append(elementos)\n",
        "    return novaLista\n",
        "try:\n",
        "    print(f\"string com menos de 5 carateres{soString(['abacaxi', 'banana', 'kiwi', 'abacate', 'manga', 'uva'])}\")\n",
        "    print(f\"string com menos de 5 carateres{soString(['abacaxi', 'banana', 'kiwi', 'abacate', 'manga', True])}\")\n",
        "\n",
        "except ValueError as e:\n",
        "        print(e)\n"
      ],
      "metadata": {
        "colab": {
          "base_uri": "https://localhost:8080/"
        },
        "id": "bM9fiRaG2GPe",
        "outputId": "20910467-1dad-430f-ce4e-1f598ff3757b"
      },
      "execution_count": 5,
      "outputs": [
        {
          "output_type": "stream",
          "name": "stdout",
          "text": [
            "string com menos de 5 carateres['kiwi', 'manga', 'uva']\n",
            "A lista deve conter apenas strings.\n"
          ]
        }
      ]
    },
    {
      "cell_type": "markdown",
      "source": [
        "# Conversor de Minutos para Horas e Minutos\n",
        "função chamada converter_minutos que recebe um número total de minutos e retorna o número equivalente de horas e os minutos restantes."
      ],
      "metadata": {
        "id": "9GyD5aEXAdoO"
      }
    },
    {
      "cell_type": "code",
      "source": [
        "def converter_minutos(minutos):\n",
        "  horas = minutos // 60\n",
        "  minutos_restantes = minutos % 60\n",
        "  return print(f\"em {minutos} minutos há {horas}h e {minutos_restantes} min\")\n",
        "converter_minutos(140)"
      ],
      "metadata": {
        "colab": {
          "base_uri": "https://localhost:8080/"
        },
        "id": "FWxhkAGXAnjB",
        "outputId": "7796475d-5028-4170-fd23-2196b061d83b"
      },
      "execution_count": 6,
      "outputs": [
        {
          "output_type": "stream",
          "name": "stdout",
          "text": [
            "em 140 minutos há 2h e 20 min\n"
          ]
        }
      ]
    },
    {
      "cell_type": "markdown",
      "source": [
        "# Táxi"
      ],
      "metadata": {
        "id": "0QRdzUKeBSDy"
      }
    },
    {
      "cell_type": "code",
      "source": [
        "print('voce quer calcular quanto em reais vai pagar pelo seu')\n",
        "print('trajeto de taxi')\n",
        "print('cada taxi tem sua tarifa e preco por cada quilometro rodado.')\n",
        "print('resolva agora quanto voce pagara:\\n')\n",
        "\n",
        "tarifa = float(input(\"insira a tarifa (ex - xx.x): \"))\n",
        "\n",
        "reaisporkm = float(input('preço do taximetro por quilometro rodado (ex - xx.x): '))\n",
        "\n",
        "km = float(input(\"insira quantos quilometros vai percorrer (ex - xx.x): \"))\n",
        "\n",
        "pagamento = km * reaisporkm + tarifa\n",
        "\n",
        "resolucao = input(\"digite calcule para resolver para saber o valor: \")\n",
        "\n",
        "while resolucao != 'calcule':\n",
        "    print('erro')\n",
        "    resolucao = input(\"digite calcule para resolver: \")\n",
        "\n",
        "if resolucao == 'calcule':\n",
        "    print(f\"R${pagamento}\")"
      ],
      "metadata": {
        "colab": {
          "base_uri": "https://localhost:8080/"
        },
        "id": "FooltBOcBWer",
        "outputId": "18988506-b433-4b37-e193-14b639bfb1b3"
      },
      "execution_count": 10,
      "outputs": [
        {
          "output_type": "stream",
          "name": "stdout",
          "text": [
            "voce quer calcular quanto em reais vai pagar pelo seu\n",
            "trajeto de taxi\n",
            "cada taxi tem sua tarifa e preco por cada quilometro rodado.\n",
            "resolva agora quanto voce pagara:\n",
            "\n",
            "insira a tarifa (ex - xx.x): 10.0\n",
            "preço do taximetro por quilometro rodado (ex - xx.x): 120.0\n",
            "insira quantos quilometros vai percorrer (ex - xx.x): 17.0\n",
            "digite calcule para resolver para saber o valor: calcule\n",
            "R$2050.0\n"
          ]
        }
      ]
    }
  ]
}